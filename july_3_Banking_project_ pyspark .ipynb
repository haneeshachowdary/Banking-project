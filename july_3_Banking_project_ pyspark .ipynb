{
 "cells": [
  {
   "cell_type": "code",
   "execution_count": 1,
   "id": "f99019f5-aaa4-4e13-82d8-f6fcb9aa723c",
   "metadata": {},
   "outputs": [],
   "source": [
    "import findspark"
   ]
  },
  {
   "cell_type": "code",
   "execution_count": 2,
   "id": "008904e1-7a54-4fa7-8286-856b32220c4f",
   "metadata": {},
   "outputs": [
    {
     "data": {
      "text/plain": [
       "'C:\\\\Users\\\\Dell\\\\Desktop\\\\software\\\\spark-4.0.0-bin-hadoop3'"
      ]
     },
     "execution_count": 2,
     "metadata": {},
     "output_type": "execute_result"
    }
   ],
   "source": [
    "findspark.find()"
   ]
  },
  {
   "cell_type": "code",
   "execution_count": 3,
   "id": "58aadc66-ea30-44b7-ac1a-ca86ef25b96a",
   "metadata": {},
   "outputs": [],
   "source": [
    "import pyspark # pyspark is spark written in python \n",
    "from pyspark import SparkContext, SparkConf\n",
    "from pyspark.sql import SparkSession\n",
    "c = pyspark.SparkConf().setAppName(\"test_app\").setMaster(\"local\")\n",
    "# drivernode and worker node in the smae computer so we are using local \n",
    "sc = pyspark.SparkContext(conf = c)\n",
    "spark = SparkSession(sc) # all the congifurgation is now avaibale in saprk"
   ]
  },
  {
   "cell_type": "code",
   "execution_count": 4,
   "id": "c927bcba-0de7-4e81-83ad-b38ad5c0af2a",
   "metadata": {},
   "outputs": [],
   "source": [
    "from pyspark.sql.functions import *"
   ]
  },
  {
   "cell_type": "code",
   "execution_count": 5,
   "id": "c24b3898-e779-4058-a437-c16c80b6ea27",
   "metadata": {},
   "outputs": [],
   "source": [
    "data=spark.read.csv(\"C:\\\\Users\\\\Dell\\\\Desktop\\\\Banking.csv\",header=True,inferSchema=True,escape='\"')"
   ]
  },
  {
   "cell_type": "code",
   "execution_count": 6,
   "id": "46d2e786-7bd0-4297-a543-706e93fe2c3c",
   "metadata": {},
   "outputs": [
    {
     "data": {
      "text/plain": [
       "pyspark.sql.classic.dataframe.DataFrame"
      ]
     },
     "execution_count": 6,
     "metadata": {},
     "output_type": "execute_result"
    }
   ],
   "source": [
    "type(data)"
   ]
  },
  {
   "cell_type": "code",
   "execution_count": 7,
   "id": "11f7f0c3-eaa5-4f12-878f-711279270aba",
   "metadata": {},
   "outputs": [],
   "source": [
    "org_data=data # backup so that the data i preseverd from corruption "
   ]
  },
  {
   "cell_type": "code",
   "execution_count": 8,
   "id": "1863e905-275e-487e-8905-eb274406630d",
   "metadata": {},
   "outputs": [
    {
     "data": {
      "text/plain": [
       "(1048575, 151)"
      ]
     },
     "execution_count": 8,
     "metadata": {},
     "output_type": "execute_result"
    }
   ],
   "source": [
    "org_data.count(),len(org_data.columns)"
   ]
  },
  {
   "cell_type": "code",
   "execution_count": 9,
   "id": "f9a87973-29ce-4d0e-adf3-11586c7c1be9",
   "metadata": {},
   "outputs": [
    {
     "data": {
      "text/plain": [
       "(1048575, 151)"
      ]
     },
     "execution_count": 9,
     "metadata": {},
     "output_type": "execute_result"
    }
   ],
   "source": [
    "data.count(),len(data.columns)"
   ]
  },
  {
   "cell_type": "code",
   "execution_count": 10,
   "id": "234b98dc-a764-4118-aab9-7f595784d9b3",
   "metadata": {},
   "outputs": [
    {
     "data": {
      "text/plain": [
       "['id',\n",
       " 'member_id',\n",
       " 'loan_amnt',\n",
       " 'funded_amnt',\n",
       " 'funded_amnt_inv',\n",
       " 'term',\n",
       " 'int_rate',\n",
       " 'installment',\n",
       " 'grade',\n",
       " 'sub_grade',\n",
       " 'emp_title',\n",
       " 'emp_length',\n",
       " 'home_ownership',\n",
       " 'annual_inc',\n",
       " 'verification_status',\n",
       " 'issue_d',\n",
       " 'loan_status',\n",
       " 'pymnt_plan',\n",
       " 'url',\n",
       " 'desc',\n",
       " 'purpose',\n",
       " 'title',\n",
       " 'zip_code',\n",
       " 'addr_state',\n",
       " 'dti',\n",
       " 'delinq_2yrs',\n",
       " 'earliest_cr_line',\n",
       " 'fico_range_low',\n",
       " 'fico_range_high',\n",
       " 'inq_last_6mths',\n",
       " 'mths_since_last_delinq',\n",
       " 'mths_since_last_record',\n",
       " 'open_acc',\n",
       " 'pub_rec',\n",
       " 'revol_bal',\n",
       " 'revol_util',\n",
       " 'total_acc',\n",
       " 'initial_list_status',\n",
       " 'out_prncp',\n",
       " 'out_prncp_inv',\n",
       " 'total_pymnt',\n",
       " 'total_pymnt_inv',\n",
       " 'total_rec_prncp',\n",
       " 'total_rec_int',\n",
       " 'total_rec_late_fee',\n",
       " 'recoveries',\n",
       " 'collection_recovery_fee',\n",
       " 'last_pymnt_d',\n",
       " 'last_pymnt_amnt',\n",
       " 'next_pymnt_d',\n",
       " 'last_credit_pull_d',\n",
       " 'last_fico_range_high',\n",
       " 'last_fico_range_low',\n",
       " 'collections_12_mths_ex_med',\n",
       " 'mths_since_last_major_derog',\n",
       " 'policy_code',\n",
       " 'application_type',\n",
       " 'annual_inc_joint',\n",
       " 'dti_joint',\n",
       " 'verification_status_joint',\n",
       " 'acc_now_delinq',\n",
       " 'tot_coll_amt',\n",
       " 'tot_cur_bal',\n",
       " 'open_acc_6m',\n",
       " 'open_act_il',\n",
       " 'open_il_12m',\n",
       " 'open_il_24m',\n",
       " 'mths_since_rcnt_il',\n",
       " 'total_bal_il',\n",
       " 'il_util',\n",
       " 'open_rv_12m',\n",
       " 'open_rv_24m',\n",
       " 'max_bal_bc',\n",
       " 'all_util',\n",
       " 'total_rev_hi_lim',\n",
       " 'inq_fi',\n",
       " 'total_cu_tl',\n",
       " 'inq_last_12m',\n",
       " 'acc_open_past_24mths',\n",
       " 'avg_cur_bal',\n",
       " 'bc_open_to_buy',\n",
       " 'bc_util',\n",
       " 'chargeoff_within_12_mths',\n",
       " 'delinq_amnt',\n",
       " 'mo_sin_old_il_acct',\n",
       " 'mo_sin_old_rev_tl_op',\n",
       " 'mo_sin_rcnt_rev_tl_op',\n",
       " 'mo_sin_rcnt_tl',\n",
       " 'mort_acc',\n",
       " 'mths_since_recent_bc',\n",
       " 'mths_since_recent_bc_dlq',\n",
       " 'mths_since_recent_inq',\n",
       " 'mths_since_recent_revol_delinq',\n",
       " 'num_accts_ever_120_pd',\n",
       " 'num_actv_bc_tl',\n",
       " 'num_actv_rev_tl',\n",
       " 'num_bc_sats',\n",
       " 'num_bc_tl',\n",
       " 'num_il_tl',\n",
       " 'num_op_rev_tl',\n",
       " 'num_rev_accts',\n",
       " 'num_rev_tl_bal_gt_0',\n",
       " 'num_sats',\n",
       " 'num_tl_120dpd_2m',\n",
       " 'num_tl_30dpd',\n",
       " 'num_tl_90g_dpd_24m',\n",
       " 'num_tl_op_past_12m',\n",
       " 'pct_tl_nvr_dlq',\n",
       " 'percent_bc_gt_75',\n",
       " 'pub_rec_bankruptcies',\n",
       " 'tax_liens',\n",
       " 'tot_hi_cred_lim',\n",
       " 'total_bal_ex_mort',\n",
       " 'total_bc_limit',\n",
       " 'total_il_high_credit_limit',\n",
       " 'revol_bal_joint',\n",
       " 'sec_app_fico_range_low',\n",
       " 'sec_app_fico_range_high',\n",
       " 'sec_app_earliest_cr_line',\n",
       " 'sec_app_inq_last_6mths',\n",
       " 'sec_app_mort_acc',\n",
       " 'sec_app_open_acc',\n",
       " 'sec_app_revol_util',\n",
       " 'sec_app_open_act_il',\n",
       " 'sec_app_num_rev_accts',\n",
       " 'sec_app_chargeoff_within_12_mths',\n",
       " 'sec_app_collections_12_mths_ex_med',\n",
       " 'sec_app_mths_since_last_major_derog',\n",
       " 'hardship_flag',\n",
       " 'hardship_type',\n",
       " 'hardship_reason',\n",
       " 'hardship_status',\n",
       " 'deferral_term',\n",
       " 'hardship_amount',\n",
       " 'hardship_start_date',\n",
       " 'hardship_end_date',\n",
       " 'payment_plan_start_date',\n",
       " 'hardship_length',\n",
       " 'hardship_dpd',\n",
       " 'hardship_loan_status',\n",
       " 'orig_projected_additional_accrued_interest',\n",
       " 'hardship_payoff_balance_amount',\n",
       " 'hardship_last_payment_amount',\n",
       " 'disbursement_method',\n",
       " 'debt_settlement_flag',\n",
       " 'debt_settlement_flag_date',\n",
       " 'settlement_status',\n",
       " 'settlement_date',\n",
       " 'settlement_amount',\n",
       " 'settlement_percentage',\n",
       " 'settlement_term']"
      ]
     },
     "execution_count": 10,
     "metadata": {},
     "output_type": "execute_result"
    }
   ],
   "source": [
    "data.columns"
   ]
  },
  {
   "cell_type": "code",
   "execution_count": null,
   "id": "61e77219-8804-467a-a77a-309f3db18a02",
   "metadata": {},
   "outputs": [],
   "source": []
  },
  {
   "cell_type": "code",
   "execution_count": 11,
   "id": "644dc385-3919-49f8-b085-c94c7c3abe1b",
   "metadata": {},
   "outputs": [
    {
     "name": "stdout",
     "output_type": "stream",
     "text": [
      "+--------+---------+---------+-----------+---------------+----------+--------+-----------+-----+---------+------------+----------+--------------+----------+-------------------+-------+-----------+----------+--------------------+----+------------------+------------------+--------+----------+-----+-----------+----------------+--------------+---------------+--------------+----------------------+----------------------+--------+-------+---------+----------+---------+-------------------+---------+-------------+-----------+---------------+---------------+-------------+------------------+----------+-----------------------+------------+---------------+------------+------------------+--------------------+-------------------+--------------------------+---------------------------+-----------+----------------+----------------+---------+-------------------------+--------------+------------+-----------+-----------+-----------+-----------+-----------+------------------+------------+-------+-----------+-----------+----------+--------+----------------+------+-----------+------------+--------------------+-----------+--------------+-------+------------------------+-----------+------------------+--------------------+---------------------+--------------+--------+--------------------+------------------------+---------------------+------------------------------+---------------------+--------------+---------------+-----------+---------+---------+-------------+-------------+-------------------+--------+----------------+------------+------------------+------------------+--------------+----------------+--------------------+---------+---------------+-----------------+--------------+--------------------------+---------------+----------------------+-----------------------+------------------------+----------------------+----------------+----------------+------------------+-------------------+---------------------+--------------------------------+----------------------------------+-----------------------------------+-------------+-------------+---------------+---------------+-------------+---------------+-------------------+-----------------+-----------------------+---------------+------------+--------------------+------------------------------------------+------------------------------+----------------------------+-------------------+--------------------+-------------------------+-----------------+---------------+-----------------+---------------------+---------------+\n",
      "|      id|member_id|loan_amnt|funded_amnt|funded_amnt_inv|      term|int_rate|installment|grade|sub_grade|   emp_title|emp_length|home_ownership|annual_inc|verification_status|issue_d|loan_status|pymnt_plan|                 url|desc|           purpose|             title|zip_code|addr_state|  dti|delinq_2yrs|earliest_cr_line|fico_range_low|fico_range_high|inq_last_6mths|mths_since_last_delinq|mths_since_last_record|open_acc|pub_rec|revol_bal|revol_util|total_acc|initial_list_status|out_prncp|out_prncp_inv|total_pymnt|total_pymnt_inv|total_rec_prncp|total_rec_int|total_rec_late_fee|recoveries|collection_recovery_fee|last_pymnt_d|last_pymnt_amnt|next_pymnt_d|last_credit_pull_d|last_fico_range_high|last_fico_range_low|collections_12_mths_ex_med|mths_since_last_major_derog|policy_code|application_type|annual_inc_joint|dti_joint|verification_status_joint|acc_now_delinq|tot_coll_amt|tot_cur_bal|open_acc_6m|open_act_il|open_il_12m|open_il_24m|mths_since_rcnt_il|total_bal_il|il_util|open_rv_12m|open_rv_24m|max_bal_bc|all_util|total_rev_hi_lim|inq_fi|total_cu_tl|inq_last_12m|acc_open_past_24mths|avg_cur_bal|bc_open_to_buy|bc_util|chargeoff_within_12_mths|delinq_amnt|mo_sin_old_il_acct|mo_sin_old_rev_tl_op|mo_sin_rcnt_rev_tl_op|mo_sin_rcnt_tl|mort_acc|mths_since_recent_bc|mths_since_recent_bc_dlq|mths_since_recent_inq|mths_since_recent_revol_delinq|num_accts_ever_120_pd|num_actv_bc_tl|num_actv_rev_tl|num_bc_sats|num_bc_tl|num_il_tl|num_op_rev_tl|num_rev_accts|num_rev_tl_bal_gt_0|num_sats|num_tl_120dpd_2m|num_tl_30dpd|num_tl_90g_dpd_24m|num_tl_op_past_12m|pct_tl_nvr_dlq|percent_bc_gt_75|pub_rec_bankruptcies|tax_liens|tot_hi_cred_lim|total_bal_ex_mort|total_bc_limit|total_il_high_credit_limit|revol_bal_joint|sec_app_fico_range_low|sec_app_fico_range_high|sec_app_earliest_cr_line|sec_app_inq_last_6mths|sec_app_mort_acc|sec_app_open_acc|sec_app_revol_util|sec_app_open_act_il|sec_app_num_rev_accts|sec_app_chargeoff_within_12_mths|sec_app_collections_12_mths_ex_med|sec_app_mths_since_last_major_derog|hardship_flag|hardship_type|hardship_reason|hardship_status|deferral_term|hardship_amount|hardship_start_date|hardship_end_date|payment_plan_start_date|hardship_length|hardship_dpd|hardship_loan_status|orig_projected_additional_accrued_interest|hardship_payoff_balance_amount|hardship_last_payment_amount|disbursement_method|debt_settlement_flag|debt_settlement_flag_date|settlement_status|settlement_date|settlement_amount|settlement_percentage|settlement_term|\n",
      "+--------+---------+---------+-----------+---------------+----------+--------+-----------+-----+---------+------------+----------+--------------+----------+-------------------+-------+-----------+----------+--------------------+----+------------------+------------------+--------+----------+-----+-----------+----------------+--------------+---------------+--------------+----------------------+----------------------+--------+-------+---------+----------+---------+-------------------+---------+-------------+-----------+---------------+---------------+-------------+------------------+----------+-----------------------+------------+---------------+------------+------------------+--------------------+-------------------+--------------------------+---------------------------+-----------+----------------+----------------+---------+-------------------------+--------------+------------+-----------+-----------+-----------+-----------+-----------+------------------+------------+-------+-----------+-----------+----------+--------+----------------+------+-----------+------------+--------------------+-----------+--------------+-------+------------------------+-----------+------------------+--------------------+---------------------+--------------+--------+--------------------+------------------------+---------------------+------------------------------+---------------------+--------------+---------------+-----------+---------+---------+-------------+-------------+-------------------+--------+----------------+------------+------------------+------------------+--------------+----------------+--------------------+---------+---------------+-----------------+--------------+--------------------------+---------------+----------------------+-----------------------+------------------------+----------------------+----------------+----------------+------------------+-------------------+---------------------+--------------------------------+----------------------------------+-----------------------------------+-------------+-------------+---------------+---------------+-------------+---------------+-------------------+-----------------+-----------------------+---------------+------------+--------------------+------------------------------------------+------------------------------+----------------------------+-------------------+--------------------+-------------------------+-----------------+---------------+-----------------+---------------------+---------------+\n",
      "|68407277|     NULL|     3600|       3600|         3600.0| 36 months|   13.99|     123.03|    C|       C4|     leadman| 10+ years|      MORTGAGE|   55000.0|       Not Verified| Dec-15| Fully Paid|         n|https://lendingcl...|NULL|debt_consolidation|Debt consolidation|   190xx|        PA| 5.91|          0|          Aug-03|           675|            679|             1|                    30|                  NULL|       7|      0|     2765|      29.7|       13|                  w|      0.0|          0.0|4421.723917|        4421.72|         3600.0|       821.72|               0.0|       0.0|                    0.0|      Jan-19|         122.67|        NULL|            Mar-19|                 564|                560|                         0|                         30|          1|      Individual|            NULL|     NULL|                     NULL|             0|         722|     144904|          2|          2|          0|          1|                21|        4981|     36|          3|          3|       722|      34|            9300|     3|          1|           4|                   4|      20701|          1506|   37.2|                       0|          0|               148|                 128|                    3|             3|       1|                   4|                      69|                    4|                            69|                    2|             2|              4|          2|        5|        3|            4|            9|                  4|       7|               0|           0|                 0|                 3|          76.9|             0.0|                   0|        0|         178050|             7746|          2400|                     13734|           NULL|                  NULL|                   NULL|                    NULL|                  NULL|            NULL|            NULL|              NULL|               NULL|                 NULL|                            NULL|                              NULL|                               NULL|            N|         NULL|           NULL|           NULL|         NULL|           NULL|               NULL|             NULL|                   NULL|           NULL|        NULL|                NULL|                                      NULL|                          NULL|                        NULL|               Cash|                   N|                     NULL|             NULL|           NULL|             NULL|                 NULL|           NULL|\n",
      "|68355089|     NULL|    24700|      24700|        24700.0| 36 months|   11.99|     820.28|    C|       C1|    Engineer| 10+ years|      MORTGAGE|   65000.0|       Not Verified| Dec-15| Fully Paid|         n|https://lendingcl...|NULL|    small_business|          Business|   577xx|        SD|16.06|          1|          Dec-99|           715|            719|             4|                     6|                  NULL|      22|      0|    21470|      19.2|       38|                  w|      0.0|          0.0|   25679.66|       25679.66|        24700.0|       979.66|               0.0|       0.0|                    0.0|      Jun-16|         926.35|        NULL|            Mar-19|                 699|                695|                         0|                       NULL|          1|      Individual|            NULL|     NULL|                     NULL|             0|           0|     204396|          1|          1|          0|          1|                19|       18005|     73|          2|          3|      6472|      29|          111800|     0|          0|           6|                   4|       9733|         57830|   27.1|                       0|          0|               113|                 192|                    2|             2|       4|                   2|                    NULL|                    0|                             6|                    0|             5|              5|         13|       17|        6|           20|           27|                  5|      22|               0|           0|                 0|                 2|          97.4|             7.7|                   0|        0|         314017|            39475|         79300|                     24667|           NULL|                  NULL|                   NULL|                    NULL|                  NULL|            NULL|            NULL|              NULL|               NULL|                 NULL|                            NULL|                              NULL|                               NULL|            N|         NULL|           NULL|           NULL|         NULL|           NULL|               NULL|             NULL|                   NULL|           NULL|        NULL|                NULL|                                      NULL|                          NULL|                        NULL|               Cash|                   N|                     NULL|             NULL|           NULL|             NULL|                 NULL|           NULL|\n",
      "|68341763|     NULL|    20000|      20000|        20000.0| 60 months|   10.78|     432.66|    B|       B4|truck driver| 10+ years|      MORTGAGE|   63000.0|       Not Verified| Dec-15| Fully Paid|         n|https://lendingcl...|NULL|  home_improvement|              NULL|   605xx|        IL|10.78|          0|          Aug-00|           695|            699|             0|                  NULL|                  NULL|       6|      0|     7869|      56.2|       18|                  w|      0.0|          0.0|22705.92429|       22705.92|        20000.0|      2705.92|               0.0|       0.0|                    0.0|      Jun-17|        15813.3|        NULL|            Mar-19|                 704|                700|                         0|                       NULL|          1|       Joint App|         71000.0|    13.85|             Not Verified|             0|           0|     189699|          0|          1|          0|          4|                19|       10827|     73|          0|          2|      2081|      65|           14000|     2|          5|           1|                   6|      31617|          2737|   55.9|                       0|          0|               125|                 184|                   14|            14|       5|                 101|                    NULL|                   10|                          NULL|                    0|             2|              3|          2|        4|        6|            4|            7|                  3|       6|               0|           0|                 0|                 0|         100.0|            50.0|                   0|        0|         218418|            18696|          6200|                     14877|           NULL|                  NULL|                   NULL|                    NULL|                  NULL|            NULL|            NULL|              NULL|               NULL|                 NULL|                            NULL|                              NULL|                               NULL|            N|         NULL|           NULL|           NULL|         NULL|           NULL|               NULL|             NULL|                   NULL|           NULL|        NULL|                NULL|                                      NULL|                          NULL|                        NULL|               Cash|                   N|                     NULL|             NULL|           NULL|             NULL|                 NULL|           NULL|\n",
      "+--------+---------+---------+-----------+---------------+----------+--------+-----------+-----+---------+------------+----------+--------------+----------+-------------------+-------+-----------+----------+--------------------+----+------------------+------------------+--------+----------+-----+-----------+----------------+--------------+---------------+--------------+----------------------+----------------------+--------+-------+---------+----------+---------+-------------------+---------+-------------+-----------+---------------+---------------+-------------+------------------+----------+-----------------------+------------+---------------+------------+------------------+--------------------+-------------------+--------------------------+---------------------------+-----------+----------------+----------------+---------+-------------------------+--------------+------------+-----------+-----------+-----------+-----------+-----------+------------------+------------+-------+-----------+-----------+----------+--------+----------------+------+-----------+------------+--------------------+-----------+--------------+-------+------------------------+-----------+------------------+--------------------+---------------------+--------------+--------+--------------------+------------------------+---------------------+------------------------------+---------------------+--------------+---------------+-----------+---------+---------+-------------+-------------+-------------------+--------+----------------+------------+------------------+------------------+--------------+----------------+--------------------+---------+---------------+-----------------+--------------+--------------------------+---------------+----------------------+-----------------------+------------------------+----------------------+----------------+----------------+------------------+-------------------+---------------------+--------------------------------+----------------------------------+-----------------------------------+-------------+-------------+---------------+---------------+-------------+---------------+-------------------+-----------------+-----------------------+---------------+------------+--------------------+------------------------------------------+------------------------------+----------------------------+-------------------+--------------------+-------------------------+-----------------+---------------+-----------------+---------------------+---------------+\n",
      "only showing top 3 rows\n"
     ]
    }
   ],
   "source": [
    "data.show(3)"
   ]
  },
  {
   "cell_type": "code",
   "execution_count": 12,
   "id": "b091dff6-8ea1-4b93-9c94-18ddd9753512",
   "metadata": {},
   "outputs": [
    {
     "name": "stdout",
     "output_type": "stream",
     "text": [
      "root\n",
      " |-- id: string (nullable = true)\n",
      " |-- member_id: string (nullable = true)\n",
      " |-- loan_amnt: integer (nullable = true)\n",
      " |-- funded_amnt: integer (nullable = true)\n",
      " |-- funded_amnt_inv: double (nullable = true)\n",
      " |-- term: string (nullable = true)\n",
      " |-- int_rate: double (nullable = true)\n",
      " |-- installment: double (nullable = true)\n",
      " |-- grade: string (nullable = true)\n",
      " |-- sub_grade: string (nullable = true)\n",
      " |-- emp_title: string (nullable = true)\n",
      " |-- emp_length: string (nullable = true)\n",
      " |-- home_ownership: string (nullable = true)\n",
      " |-- annual_inc: double (nullable = true)\n",
      " |-- verification_status: string (nullable = true)\n",
      " |-- issue_d: string (nullable = true)\n",
      " |-- loan_status: string (nullable = true)\n",
      " |-- pymnt_plan: string (nullable = true)\n",
      " |-- url: string (nullable = true)\n",
      " |-- desc: string (nullable = true)\n",
      " |-- purpose: string (nullable = true)\n",
      " |-- title: string (nullable = true)\n",
      " |-- zip_code: string (nullable = true)\n",
      " |-- addr_state: string (nullable = true)\n",
      " |-- dti: double (nullable = true)\n",
      " |-- delinq_2yrs: integer (nullable = true)\n",
      " |-- earliest_cr_line: string (nullable = true)\n",
      " |-- fico_range_low: integer (nullable = true)\n",
      " |-- fico_range_high: integer (nullable = true)\n",
      " |-- inq_last_6mths: integer (nullable = true)\n",
      " |-- mths_since_last_delinq: integer (nullable = true)\n",
      " |-- mths_since_last_record: integer (nullable = true)\n",
      " |-- open_acc: integer (nullable = true)\n",
      " |-- pub_rec: integer (nullable = true)\n",
      " |-- revol_bal: integer (nullable = true)\n",
      " |-- revol_util: double (nullable = true)\n",
      " |-- total_acc: integer (nullable = true)\n",
      " |-- initial_list_status: string (nullable = true)\n",
      " |-- out_prncp: double (nullable = true)\n",
      " |-- out_prncp_inv: double (nullable = true)\n",
      " |-- total_pymnt: double (nullable = true)\n",
      " |-- total_pymnt_inv: double (nullable = true)\n",
      " |-- total_rec_prncp: double (nullable = true)\n",
      " |-- total_rec_int: double (nullable = true)\n",
      " |-- total_rec_late_fee: double (nullable = true)\n",
      " |-- recoveries: double (nullable = true)\n",
      " |-- collection_recovery_fee: double (nullable = true)\n",
      " |-- last_pymnt_d: string (nullable = true)\n",
      " |-- last_pymnt_amnt: double (nullable = true)\n",
      " |-- next_pymnt_d: string (nullable = true)\n",
      " |-- last_credit_pull_d: string (nullable = true)\n",
      " |-- last_fico_range_high: integer (nullable = true)\n",
      " |-- last_fico_range_low: integer (nullable = true)\n",
      " |-- collections_12_mths_ex_med: integer (nullable = true)\n",
      " |-- mths_since_last_major_derog: integer (nullable = true)\n",
      " |-- policy_code: integer (nullable = true)\n",
      " |-- application_type: string (nullable = true)\n",
      " |-- annual_inc_joint: double (nullable = true)\n",
      " |-- dti_joint: double (nullable = true)\n",
      " |-- verification_status_joint: string (nullable = true)\n",
      " |-- acc_now_delinq: integer (nullable = true)\n",
      " |-- tot_coll_amt: integer (nullable = true)\n",
      " |-- tot_cur_bal: integer (nullable = true)\n",
      " |-- open_acc_6m: integer (nullable = true)\n",
      " |-- open_act_il: integer (nullable = true)\n",
      " |-- open_il_12m: integer (nullable = true)\n",
      " |-- open_il_24m: integer (nullable = true)\n",
      " |-- mths_since_rcnt_il: integer (nullable = true)\n",
      " |-- total_bal_il: integer (nullable = true)\n",
      " |-- il_util: integer (nullable = true)\n",
      " |-- open_rv_12m: integer (nullable = true)\n",
      " |-- open_rv_24m: integer (nullable = true)\n",
      " |-- max_bal_bc: integer (nullable = true)\n",
      " |-- all_util: integer (nullable = true)\n",
      " |-- total_rev_hi_lim: integer (nullable = true)\n",
      " |-- inq_fi: integer (nullable = true)\n",
      " |-- total_cu_tl: integer (nullable = true)\n",
      " |-- inq_last_12m: integer (nullable = true)\n",
      " |-- acc_open_past_24mths: integer (nullable = true)\n",
      " |-- avg_cur_bal: integer (nullable = true)\n",
      " |-- bc_open_to_buy: integer (nullable = true)\n",
      " |-- bc_util: double (nullable = true)\n",
      " |-- chargeoff_within_12_mths: integer (nullable = true)\n",
      " |-- delinq_amnt: integer (nullable = true)\n",
      " |-- mo_sin_old_il_acct: integer (nullable = true)\n",
      " |-- mo_sin_old_rev_tl_op: integer (nullable = true)\n",
      " |-- mo_sin_rcnt_rev_tl_op: integer (nullable = true)\n",
      " |-- mo_sin_rcnt_tl: integer (nullable = true)\n",
      " |-- mort_acc: integer (nullable = true)\n",
      " |-- mths_since_recent_bc: integer (nullable = true)\n",
      " |-- mths_since_recent_bc_dlq: integer (nullable = true)\n",
      " |-- mths_since_recent_inq: integer (nullable = true)\n",
      " |-- mths_since_recent_revol_delinq: integer (nullable = true)\n",
      " |-- num_accts_ever_120_pd: integer (nullable = true)\n",
      " |-- num_actv_bc_tl: integer (nullable = true)\n",
      " |-- num_actv_rev_tl: integer (nullable = true)\n",
      " |-- num_bc_sats: integer (nullable = true)\n",
      " |-- num_bc_tl: integer (nullable = true)\n",
      " |-- num_il_tl: integer (nullable = true)\n",
      " |-- num_op_rev_tl: integer (nullable = true)\n",
      " |-- num_rev_accts: integer (nullable = true)\n",
      " |-- num_rev_tl_bal_gt_0: integer (nullable = true)\n",
      " |-- num_sats: integer (nullable = true)\n",
      " |-- num_tl_120dpd_2m: integer (nullable = true)\n",
      " |-- num_tl_30dpd: integer (nullable = true)\n",
      " |-- num_tl_90g_dpd_24m: integer (nullable = true)\n",
      " |-- num_tl_op_past_12m: integer (nullable = true)\n",
      " |-- pct_tl_nvr_dlq: double (nullable = true)\n",
      " |-- percent_bc_gt_75: double (nullable = true)\n",
      " |-- pub_rec_bankruptcies: integer (nullable = true)\n",
      " |-- tax_liens: integer (nullable = true)\n",
      " |-- tot_hi_cred_lim: integer (nullable = true)\n",
      " |-- total_bal_ex_mort: integer (nullable = true)\n",
      " |-- total_bc_limit: integer (nullable = true)\n",
      " |-- total_il_high_credit_limit: integer (nullable = true)\n",
      " |-- revol_bal_joint: integer (nullable = true)\n",
      " |-- sec_app_fico_range_low: integer (nullable = true)\n",
      " |-- sec_app_fico_range_high: integer (nullable = true)\n",
      " |-- sec_app_earliest_cr_line: string (nullable = true)\n",
      " |-- sec_app_inq_last_6mths: integer (nullable = true)\n",
      " |-- sec_app_mort_acc: integer (nullable = true)\n",
      " |-- sec_app_open_acc: integer (nullable = true)\n",
      " |-- sec_app_revol_util: double (nullable = true)\n",
      " |-- sec_app_open_act_il: integer (nullable = true)\n",
      " |-- sec_app_num_rev_accts: integer (nullable = true)\n",
      " |-- sec_app_chargeoff_within_12_mths: integer (nullable = true)\n",
      " |-- sec_app_collections_12_mths_ex_med: integer (nullable = true)\n",
      " |-- sec_app_mths_since_last_major_derog: integer (nullable = true)\n",
      " |-- hardship_flag: string (nullable = true)\n",
      " |-- hardship_type: string (nullable = true)\n",
      " |-- hardship_reason: string (nullable = true)\n",
      " |-- hardship_status: string (nullable = true)\n",
      " |-- deferral_term: integer (nullable = true)\n",
      " |-- hardship_amount: double (nullable = true)\n",
      " |-- hardship_start_date: string (nullable = true)\n",
      " |-- hardship_end_date: string (nullable = true)\n",
      " |-- payment_plan_start_date: string (nullable = true)\n",
      " |-- hardship_length: integer (nullable = true)\n",
      " |-- hardship_dpd: integer (nullable = true)\n",
      " |-- hardship_loan_status: string (nullable = true)\n",
      " |-- orig_projected_additional_accrued_interest: double (nullable = true)\n",
      " |-- hardship_payoff_balance_amount: double (nullable = true)\n",
      " |-- hardship_last_payment_amount: double (nullable = true)\n",
      " |-- disbursement_method: string (nullable = true)\n",
      " |-- debt_settlement_flag: string (nullable = true)\n",
      " |-- debt_settlement_flag_date: string (nullable = true)\n",
      " |-- settlement_status: string (nullable = true)\n",
      " |-- settlement_date: string (nullable = true)\n",
      " |-- settlement_amount: double (nullable = true)\n",
      " |-- settlement_percentage: double (nullable = true)\n",
      " |-- settlement_term: integer (nullable = true)\n",
      "\n"
     ]
    }
   ],
   "source": [
    "data.printSchema ()"
   ]
  },
  {
   "cell_type": "code",
   "execution_count": 13,
   "id": "407cca65-2f67-4bc7-a686-03baabfc2d72",
   "metadata": {},
   "outputs": [
    {
     "data": {
      "text/plain": [
       "['id',\n",
       " 'member_id',\n",
       " 'loan_amnt',\n",
       " 'funded_amnt',\n",
       " 'funded_amnt_inv',\n",
       " 'term',\n",
       " 'int_rate',\n",
       " 'installment',\n",
       " 'grade',\n",
       " 'sub_grade',\n",
       " 'emp_title',\n",
       " 'emp_length',\n",
       " 'home_ownership',\n",
       " 'annual_inc',\n",
       " 'verification_status',\n",
       " 'issue_d',\n",
       " 'loan_status',\n",
       " 'pymnt_plan',\n",
       " 'url',\n",
       " 'desc',\n",
       " 'purpose',\n",
       " 'title',\n",
       " 'zip_code',\n",
       " 'addr_state',\n",
       " 'dti',\n",
       " 'delinq_2yrs',\n",
       " 'earliest_cr_line',\n",
       " 'fico_range_low',\n",
       " 'fico_range_high',\n",
       " 'inq_last_6mths',\n",
       " 'mths_since_last_delinq',\n",
       " 'mths_since_last_record',\n",
       " 'open_acc',\n",
       " 'pub_rec',\n",
       " 'revol_bal',\n",
       " 'revol_util',\n",
       " 'total_acc',\n",
       " 'initial_list_status',\n",
       " 'out_prncp',\n",
       " 'out_prncp_inv',\n",
       " 'total_pymnt',\n",
       " 'total_pymnt_inv',\n",
       " 'total_rec_prncp',\n",
       " 'total_rec_int',\n",
       " 'total_rec_late_fee',\n",
       " 'recoveries',\n",
       " 'collection_recovery_fee',\n",
       " 'last_pymnt_d',\n",
       " 'last_pymnt_amnt',\n",
       " 'next_pymnt_d',\n",
       " 'last_credit_pull_d',\n",
       " 'last_fico_range_high',\n",
       " 'last_fico_range_low',\n",
       " 'collections_12_mths_ex_med',\n",
       " 'mths_since_last_major_derog',\n",
       " 'policy_code',\n",
       " 'application_type',\n",
       " 'annual_inc_joint',\n",
       " 'dti_joint',\n",
       " 'verification_status_joint',\n",
       " 'acc_now_delinq',\n",
       " 'tot_coll_amt',\n",
       " 'tot_cur_bal',\n",
       " 'open_acc_6m',\n",
       " 'open_act_il',\n",
       " 'open_il_12m',\n",
       " 'open_il_24m',\n",
       " 'mths_since_rcnt_il',\n",
       " 'total_bal_il',\n",
       " 'il_util',\n",
       " 'open_rv_12m',\n",
       " 'open_rv_24m',\n",
       " 'max_bal_bc',\n",
       " 'all_util',\n",
       " 'total_rev_hi_lim',\n",
       " 'inq_fi',\n",
       " 'total_cu_tl',\n",
       " 'inq_last_12m',\n",
       " 'acc_open_past_24mths',\n",
       " 'avg_cur_bal',\n",
       " 'bc_open_to_buy',\n",
       " 'bc_util',\n",
       " 'chargeoff_within_12_mths',\n",
       " 'delinq_amnt',\n",
       " 'mo_sin_old_il_acct',\n",
       " 'mo_sin_old_rev_tl_op',\n",
       " 'mo_sin_rcnt_rev_tl_op',\n",
       " 'mo_sin_rcnt_tl',\n",
       " 'mort_acc',\n",
       " 'mths_since_recent_bc',\n",
       " 'mths_since_recent_bc_dlq',\n",
       " 'mths_since_recent_inq',\n",
       " 'mths_since_recent_revol_delinq',\n",
       " 'num_accts_ever_120_pd',\n",
       " 'num_actv_bc_tl',\n",
       " 'num_actv_rev_tl',\n",
       " 'num_bc_sats',\n",
       " 'num_bc_tl',\n",
       " 'num_il_tl',\n",
       " 'num_op_rev_tl',\n",
       " 'num_rev_accts',\n",
       " 'num_rev_tl_bal_gt_0',\n",
       " 'num_sats',\n",
       " 'num_tl_120dpd_2m',\n",
       " 'num_tl_30dpd',\n",
       " 'num_tl_90g_dpd_24m',\n",
       " 'num_tl_op_past_12m',\n",
       " 'pct_tl_nvr_dlq',\n",
       " 'percent_bc_gt_75',\n",
       " 'pub_rec_bankruptcies',\n",
       " 'tax_liens',\n",
       " 'tot_hi_cred_lim',\n",
       " 'total_bal_ex_mort',\n",
       " 'total_bc_limit',\n",
       " 'total_il_high_credit_limit',\n",
       " 'revol_bal_joint',\n",
       " 'sec_app_fico_range_low',\n",
       " 'sec_app_fico_range_high',\n",
       " 'sec_app_earliest_cr_line',\n",
       " 'sec_app_inq_last_6mths',\n",
       " 'sec_app_mort_acc',\n",
       " 'sec_app_open_acc',\n",
       " 'sec_app_revol_util',\n",
       " 'sec_app_open_act_il',\n",
       " 'sec_app_num_rev_accts',\n",
       " 'sec_app_chargeoff_within_12_mths',\n",
       " 'sec_app_collections_12_mths_ex_med',\n",
       " 'sec_app_mths_since_last_major_derog',\n",
       " 'hardship_flag',\n",
       " 'hardship_type',\n",
       " 'hardship_reason',\n",
       " 'hardship_status',\n",
       " 'deferral_term',\n",
       " 'hardship_amount',\n",
       " 'hardship_start_date',\n",
       " 'hardship_end_date',\n",
       " 'payment_plan_start_date',\n",
       " 'hardship_length',\n",
       " 'hardship_dpd',\n",
       " 'hardship_loan_status',\n",
       " 'orig_projected_additional_accrued_interest',\n",
       " 'hardship_payoff_balance_amount',\n",
       " 'hardship_last_payment_amount',\n",
       " 'disbursement_method',\n",
       " 'debt_settlement_flag',\n",
       " 'debt_settlement_flag_date',\n",
       " 'settlement_status',\n",
       " 'settlement_date',\n",
       " 'settlement_amount',\n",
       " 'settlement_percentage',\n",
       " 'settlement_term']"
      ]
     },
     "execution_count": 13,
     "metadata": {},
     "output_type": "execute_result"
    }
   ],
   "source": [
    "data.columns"
   ]
  },
  {
   "cell_type": "code",
   "execution_count": 14,
   "id": "44d368f6-6757-4f95-a46b-b193cb72151c",
   "metadata": {},
   "outputs": [],
   "source": [
    "# data cleaning , i have 157 colunms , so for cleaning i breaking them down into list of coumns  \n",
    "\n",
    "# assigning frist 7 colunms to a varible  \n",
    "# hardcoding , assigning the names of the columns in by ourself \n",
    "\n",
    "#columns_A7=['id','member_id','loan_amnt','funded_amnt','funded_amnt_inv','term','int_rate']\n",
    "#columns_B7=['installment','grade','sub_grade','emp_title','emp_length','home_ownership','annual_inc']\n",
    "\n",
    "#instead  i can write a list comprehision \n",
    "columns_A7=[i for i in data.columns[0:7]]\n",
    "columns_B7=[i for i in data.columns[7:14]]\n",
    "columns_C7=[i for i in data.columns[14:21]]\n",
    "columns_D7=[i for i in data.columns[21:28]]\n",
    "columns_E7=[i for i in data.columns[28:35]]"
   ]
  },
  {
   "cell_type": "code",
   "execution_count": 15,
   "id": "e0fd7c21-eda2-481b-90f3-ab9f822b5b99",
   "metadata": {},
   "outputs": [
    {
     "name": "stdout",
     "output_type": "stream",
     "text": [
      "+--------+---------+---------+-----------+---------------+----------+--------+\n",
      "|      id|member_id|loan_amnt|funded_amnt|funded_amnt_inv|      term|int_rate|\n",
      "+--------+---------+---------+-----------+---------------+----------+--------+\n",
      "|68407277|     NULL|     3600|       3600|         3600.0| 36 months|   13.99|\n",
      "|68355089|     NULL|    24700|      24700|        24700.0| 36 months|   11.99|\n",
      "|68341763|     NULL|    20000|      20000|        20000.0| 60 months|   10.78|\n",
      "+--------+---------+---------+-----------+---------------+----------+--------+\n",
      "only showing top 3 rows\n"
     ]
    }
   ],
   "source": [
    "# show the resutls of above \n",
    "data.select(columns_A7).show(3)"
   ]
  },
  {
   "cell_type": "code",
   "execution_count": 16,
   "id": "65ac5e18-d3ec-44d1-8b99-e7e3c6fe3405",
   "metadata": {},
   "outputs": [
    {
     "name": "stdout",
     "output_type": "stream",
     "text": [
      "+-----------+-----+---------+------------+----------+--------------+----------+\n",
      "|installment|grade|sub_grade|emp_title   |emp_length|home_ownership|annual_inc|\n",
      "+-----------+-----+---------+------------+----------+--------------+----------+\n",
      "|123.03     |C    |C4       |leadman     |10+ years |MORTGAGE      |55000.0   |\n",
      "|820.28     |C    |C1       |Engineer    |10+ years |MORTGAGE      |65000.0   |\n",
      "|432.66     |B    |B4       |truck driver|10+ years |MORTGAGE      |63000.0   |\n",
      "+-----------+-----+---------+------------+----------+--------------+----------+\n",
      "only showing top 3 rows\n"
     ]
    }
   ],
   "source": [
    "data.select(columns_B7).show(3,False)"
   ]
  },
  {
   "cell_type": "code",
   "execution_count": 17,
   "id": "43d8efe0-4ba7-4aa7-9258-a3470ef25d5a",
   "metadata": {},
   "outputs": [
    {
     "name": "stdout",
     "output_type": "stream",
     "text": [
      "+-----------+-----+---------+------------+----------+--------------+----------+\n",
      "|installment|grade|sub_grade|emp_title   |emp_length|home_ownership|annual_inc|\n",
      "+-----------+-----+---------+------------+----------+--------------+----------+\n",
      "|123.03     |C    |C4       |leadman     |10+ years |MORTGAGE      |55000.0   |\n",
      "|820.28     |C    |C1       |Engineer    |10+ years |MORTGAGE      |65000.0   |\n",
      "|432.66     |B    |B4       |truck driver|10+ years |MORTGAGE      |63000.0   |\n",
      "+-----------+-----+---------+------------+----------+--------------+----------+\n",
      "only showing top 3 rows\n"
     ]
    }
   ],
   "source": [
    "data.select(columns_B7).show(3, False)"
   ]
  },
  {
   "cell_type": "code",
   "execution_count": 18,
   "id": "eadae06c-cf56-4480-975d-16254ebd69fe",
   "metadata": {},
   "outputs": [
    {
     "name": "stdout",
     "output_type": "stream",
     "text": [
      "+-------------------+-------+-----------+----------+-----------------------------------------------------------------+----+------------------+\n",
      "|verification_status|issue_d|loan_status|pymnt_plan|url                                                              |desc|purpose           |\n",
      "+-------------------+-------+-----------+----------+-----------------------------------------------------------------+----+------------------+\n",
      "|Not Verified       |Dec-15 |Fully Paid |n         |https://lendingclub.com/browse/loanDetail.action?loan_id=68407277|NULL|debt_consolidation|\n",
      "|Not Verified       |Dec-15 |Fully Paid |n         |https://lendingclub.com/browse/loanDetail.action?loan_id=68355089|NULL|small_business    |\n",
      "|Not Verified       |Dec-15 |Fully Paid |n         |https://lendingclub.com/browse/loanDetail.action?loan_id=68341763|NULL|home_improvement  |\n",
      "+-------------------+-------+-----------+----------+-----------------------------------------------------------------+----+------------------+\n",
      "only showing top 3 rows\n"
     ]
    }
   ],
   "source": [
    "data.select(columns_C7).show(3,False)"
   ]
  },
  {
   "cell_type": "code",
   "execution_count": 19,
   "id": "7cc92dce-abf3-46fe-8595-fea4488ab893",
   "metadata": {},
   "outputs": [
    {
     "data": {
      "text/plain": [
       "0"
      ]
     },
     "execution_count": 19,
     "metadata": {},
     "output_type": "execute_result"
    }
   ],
   "source": [
    "#check for missin values \n",
    "# data.isna().sum() is used to find the null values in pandas\n",
    "\n",
    "# pyspark :\n",
    "#i am taking one colunm - id column to see of there are null values \n",
    "# filter one colunm - check isNUll - get the count to see hoe many are null\n",
    "data.filter(col(\"id\").isNull()).count()"
   ]
  },
  {
   "cell_type": "code",
   "execution_count": 20,
   "id": "aa5095d7-c234-47a4-aac2-64fe92dac4cd",
   "metadata": {},
   "outputs": [
    {
     "data": {
      "text/plain": [
       "1048575"
      ]
     },
     "execution_count": 20,
     "metadata": {},
     "output_type": "execute_result"
    }
   ],
   "source": [
    "data.filter(col(\"member_id\").isNull()).count()"
   ]
  },
  {
   "cell_type": "code",
   "execution_count": 21,
   "id": "12296e9b-7e5e-4baf-b822-82f95785691a",
   "metadata": {},
   "outputs": [
    {
     "data": {
      "text/plain": [
       "12"
      ]
     },
     "execution_count": 21,
     "metadata": {},
     "output_type": "execute_result"
    }
   ],
   "source": [
    "data.filter(col(\"loan_amnt\").isNull()).count()"
   ]
  },
  {
   "cell_type": "code",
   "execution_count": 22,
   "id": "c39d6258-070f-4e3f-89d3-2ab805dd00d2",
   "metadata": {},
   "outputs": [
    {
     "data": {
      "text/plain": [
       "12"
      ]
     },
     "execution_count": 22,
     "metadata": {},
     "output_type": "execute_result"
    }
   ],
   "source": [
    "data.filter(col(\"funded_amnt\").isNull()).count()"
   ]
  },
  {
   "cell_type": "code",
   "execution_count": 23,
   "id": "310f4dcc-0189-4605-81b1-effff126a597",
   "metadata": {},
   "outputs": [
    {
     "data": {
      "text/plain": [
       "0.001144410271082183"
      ]
     },
     "execution_count": 23,
     "metadata": {},
     "output_type": "execute_result"
    }
   ],
   "source": [
    "# percentage of missing values in colunm loan amount \n",
    "(12/1048575)*100\n",
    "\n",
    "# the ouptu is 0.001 - this cannot be ignored even if it is a smallest number "
   ]
  },
  {
   "cell_type": "code",
   "execution_count": 24,
   "id": "626c45ac-017c-4f87-aedf-034c11338359",
   "metadata": {},
   "outputs": [],
   "source": [
    "# instead of hard coding each colunm to find null values \n",
    "# we can use class or fucntions\n",
    "\n",
    "#defining fucntion \n",
    "\n",
    "def check_missing_values_percent(df,c1):\n",
    "    a=data.filter(col(c1).isNull()).count()\n",
    "    b=data.count()\n",
    "    c=(a/b)*100\n",
    "    return c"
   ]
  },
  {
   "cell_type": "code",
   "execution_count": 25,
   "id": "1c35a538-bcc1-489f-a8a5-3f72a21e60ef",
   "metadata": {},
   "outputs": [
    {
     "data": {
      "text/plain": [
       "0.0"
      ]
     },
     "execution_count": 25,
     "metadata": {},
     "output_type": "execute_result"
    }
   ],
   "source": [
    " # calling the fucntion \n",
    "check_missing_values_percent(data,\"id\")"
   ]
  },
  {
   "cell_type": "code",
   "execution_count": 26,
   "id": "eaf4a339-6a78-4c42-9980-f41988c98e19",
   "metadata": {},
   "outputs": [
    {
     "data": {
      "text/plain": [
       "100.0"
      ]
     },
     "execution_count": 26,
     "metadata": {},
     "output_type": "execute_result"
    }
   ],
   "source": [
    " check_missing_values_percent(data,\"member_id\")"
   ]
  },
  {
   "cell_type": "code",
   "execution_count": 27,
   "id": "86f06e83-afa3-4fa6-b513-a9cabbecfc45",
   "metadata": {},
   "outputs": [
    {
     "data": {
      "text/plain": [
       "0.001144410271082183"
      ]
     },
     "execution_count": 27,
     "metadata": {},
     "output_type": "execute_result"
    }
   ],
   "source": [
    " check_missing_values_percent(data,\"loan_amnt\")"
   ]
  },
  {
   "cell_type": "code",
   "execution_count": 28,
   "id": "869e8209-be9b-4654-bb53-ca6dc54a3e49",
   "metadata": {},
   "outputs": [],
   "source": [
    "#in the above also we have to call the fucntion 151 time to find the precenatge "
   ]
  },
  {
   "cell_type": "code",
   "execution_count": 29,
   "id": "63f0e803-5473-4e23-b9b9-67ebabb5fb3a",
   "metadata": {},
   "outputs": [],
   "source": [
    "# for that i am imporving the code \n",
    "\n",
    "#project code\n",
    "# we are jsut caluculating the count not the percent here\n",
    "# defing function\n",
    "def check_missing_values(df,lst_c1): # i am passing the list of colunms instead of one [id,member_id...]\n",
    "    missing_values={}\n",
    "    for i in lst_c1:\n",
    "        a=df.filter(col(i).isNull()).count()\n",
    "        missing_values[i]=a\n",
    "    return missing_values"
   ]
  },
  {
   "cell_type": "code",
   "execution_count": 30,
   "id": "7f6fe727-855f-4fb8-9294-53f0fb3294af",
   "metadata": {},
   "outputs": [
    {
     "data": {
      "text/plain": [
       "{'id': 0,\n",
       " 'member_id': 1048575,\n",
       " 'loan_amnt': 12,\n",
       " 'funded_amnt': 12,\n",
       " 'funded_amnt_inv': 12,\n",
       " 'term': 12,\n",
       " 'int_rate': 12}"
      ]
     },
     "execution_count": 30,
     "metadata": {},
     "output_type": "execute_result"
    }
   ],
   "source": [
    " # calling fucntion\n",
    "# this will check 1st 7 columns null values \n",
    "check_missing_values(data,columns_A7)\n"
   ]
  },
  {
   "cell_type": "code",
   "execution_count": 31,
   "id": "6574c29d-c5dd-4dfe-b640-794be81d4bdd",
   "metadata": {},
   "outputs": [],
   "source": [
    " #check_missing_values(data,data.columns) \n",
    "#will give all the null values in all the columns"
   ]
  },
  {
   "cell_type": "code",
   "execution_count": 32,
   "id": "5b61b231-cb61-4ac4-b6c0-b14ddc61f23b",
   "metadata": {},
   "outputs": [],
   "source": [
    "# to find the percentage of missing values \n",
    "\n",
    "def missing_values_percent(df,lst_c1):\n",
    "    missing_values_percent={}\n",
    "    for i in lst_c1:\n",
    "        a=df.filter(col(i).isNull()).count()\n",
    "        b=df.count()\n",
    "        c=(a/b)*100\n",
    "        missing_values_percent[i]=c\n",
    "    return missing_values_percent\n",
    "    "
   ]
  },
  {
   "cell_type": "code",
   "execution_count": 33,
   "id": "edccbeb7-58d6-4378-a5a5-011ea95ea784",
   "metadata": {},
   "outputs": [
    {
     "data": {
      "text/plain": [
       "{'id': 0.0,\n",
       " 'member_id': 100.0,\n",
       " 'loan_amnt': 0.001144410271082183,\n",
       " 'funded_amnt': 0.001144410271082183,\n",
       " 'funded_amnt_inv': 0.001144410271082183,\n",
       " 'term': 0.001144410271082183,\n",
       " 'int_rate': 0.001144410271082183}"
      ]
     },
     "execution_count": 33,
     "metadata": {},
     "output_type": "execute_result"
    }
   ],
   "source": [
    "missing_values_percent(data,columns_A7)"
   ]
  },
  {
   "cell_type": "code",
   "execution_count": 34,
   "id": "94d35318-95ce-455b-9e2c-97350fd066eb",
   "metadata": {},
   "outputs": [],
   "source": [
    "# check the percentage of null values in all colunms by below code \n",
    "#missing_values_percent(data,data.columns)"
   ]
  },
  {
   "cell_type": "code",
   "execution_count": 35,
   "id": "1557bd1b-f267-4399-9acc-3345b28172d8",
   "metadata": {},
   "outputs": [],
   "source": [
    "# in real time if the missing values percent is more tha n 75% we can drop that colunm\n",
    "# 50 -75% check with the clients , they might send a new data or add some values and send \n",
    "# below 50 % we need to impute - meaning coder will add the values to fill the null \n",
    "\n",
    "# if the guest comes and i made juice which only filled 75% of the glass,\n",
    "# i will add some water on the top , this is impuitng "
   ]
  },
  {
   "cell_type": "code",
   "execution_count": 36,
   "id": "bb11c4e0-5391-43d9-95ec-6120b509a353",
   "metadata": {},
   "outputs": [],
   "source": [
    "# droping of colunms having null percentage greater than 75\n",
    "# same code like above , slight modification \n",
    "\n",
    "def missing_values_percent(df,lst_c1):\n",
    "    missing_values_percent_less_75={}\n",
    "    missing_values_percent_more_75={} \n",
    "    for i in lst_c1:\n",
    "        a=df.filter(col(i).isNull()).count()\n",
    "        b=df.count()\n",
    "        c=(a/b)*100\n",
    "        if c>=75:\n",
    "            missing_values_percent_more_75[i]=c\n",
    "        else:\n",
    "            missing_values_percent_less_75[i]=c\n",
    "    return({\"missing values more than 75%\":missing_values_percent_more_75,\"missing values less than 75%\": missing_values_percent_less_75})"
   ]
  },
  {
   "cell_type": "code",
   "execution_count": 37,
   "id": "f246a18d-f755-4cee-b873-84d2c37c320c",
   "metadata": {},
   "outputs": [],
   "source": [
    " #missing_values_percent(data,data.columns)\n",
    "\n",
    "# the above code is taking more time , because it take more ram as it is spark"
   ]
  },
  {
   "cell_type": "code",
   "execution_count": 38,
   "id": "d1962f27-25b6-4714-abd2-9f279b89ce31",
   "metadata": {},
   "outputs": [],
   "source": [
    "# so i will make the dictionaries global varibles and acess them outside \n",
    "def missing_values_percent(df,lst_c1):\n",
    "    global missing_values_percent_less_75\n",
    "    global missing_values_percent_more_75\n",
    "    missing_values_percent_less_75={}\n",
    "    missing_values_percent_more_75={} \n",
    "    for i in lst_c1:\n",
    "        a=df.filter(col(i).isNull()).count()\n",
    "        b=df.count()\n",
    "        c=(a/b)*100\n",
    "        if c>=75:\n",
    "            missing_values_percent_more_75[i]=c\n",
    "        else:\n",
    "            missing_values_percent_less_75[i]=c\n",
    "    return({\"missing values more than 75%\": missing_values_percent_more_75,\"missing values less than 75%\": missing_values_percent_less_75 })"
   ]
  },
  {
   "cell_type": "code",
   "execution_count": 39,
   "id": "cab27471-3662-4f72-8687-13c53161811c",
   "metadata": {},
   "outputs": [],
   "source": [
    " # missing_values_percent(data,data.columns)\n",
    "\n",
    "\n",
    "# will check all the cloumns percenatge "
   ]
  },
  {
   "cell_type": "code",
   "execution_count": 40,
   "id": "7a17aad6-1a1d-403f-b091-3bb495900161",
   "metadata": {},
   "outputs": [
    {
     "ename": "NameError",
     "evalue": "name 'missing_values_percent_less_75' is not defined",
     "output_type": "error",
     "traceback": [
      "\u001b[1;31m---------------------------------------------------------------------------\u001b[0m",
      "\u001b[1;31mNameError\u001b[0m                                 Traceback (most recent call last)",
      "Cell \u001b[1;32mIn[40], line 2\u001b[0m\n\u001b[0;32m      1\u001b[0m \u001b[38;5;66;03m#now i am acessing more than 75 \u001b[39;00m\n\u001b[1;32m----> 2\u001b[0m \u001b[38;5;28mlen\u001b[39m(\u001b[43mmissing_values_percent_less_75\u001b[49m)\n",
      "\u001b[1;31mNameError\u001b[0m: name 'missing_values_percent_less_75' is not defined"
     ]
    }
   ],
   "source": [
    "#now i am acessing more than 75 \n",
    "len(missing_values_percent_less_75)"
   ]
  },
  {
   "cell_type": "code",
   "execution_count": 41,
   "id": "e96cf09c-d78b-40e2-aa55-c537be50c8c6",
   "metadata": {},
   "outputs": [
    {
     "ename": "NameError",
     "evalue": "name 'missing_values_percent_more_75' is not defined",
     "output_type": "error",
     "traceback": [
      "\u001b[1;31m---------------------------------------------------------------------------\u001b[0m",
      "\u001b[1;31mNameError\u001b[0m                                 Traceback (most recent call last)",
      "Cell \u001b[1;32mIn[41], line 1\u001b[0m\n\u001b[1;32m----> 1\u001b[0m \u001b[38;5;28mlen\u001b[39m(\u001b[43mmissing_values_percent_more_75\u001b[49m)\n",
      "\u001b[1;31mNameError\u001b[0m: name 'missing_values_percent_more_75' is not defined"
     ]
    }
   ],
   "source": [
    "len(missing_values_percent_more_75)"
   ]
  },
  {
   "cell_type": "code",
   "execution_count": 42,
   "id": "a603d800-5cc7-4f35-827a-3f350b36dfaa",
   "metadata": {},
   "outputs": [],
   "source": [
    "# to check if data has duplicates \n",
    "\n",
    "def check_duplicates(df,c1):\n",
    "    a=df.select(c1).distinct().count()\n",
    "    b=df.count()\n",
    "    if a==b:\n",
    "        return \"No duplicates\"\n",
    "    else:\n",
    "        c=b-a\n",
    "        print(\"These many duplciets\",c,\"duplicates\")\n"
   ]
  },
  {
   "cell_type": "code",
   "execution_count": 43,
   "id": "2ac84052-a732-4202-bd65-cbd4c8f10148",
   "metadata": {},
   "outputs": [
    {
     "data": {
      "text/plain": [
       "'No duplicates'"
      ]
     },
     "execution_count": 43,
     "metadata": {},
     "output_type": "execute_result"
    }
   ],
   "source": [
    "check_duplicates(data,\"id\")"
   ]
  },
  {
   "cell_type": "code",
   "execution_count": 44,
   "id": "d67e283c-e7a6-4da1-ad80-8df45765a7dd",
   "metadata": {},
   "outputs": [
    {
     "name": "stdout",
     "output_type": "stream",
     "text": [
      "These many duplciets 1048574 duplicates\n"
     ]
    }
   ],
   "source": [
    "check_duplicates(data,\"member_id\")"
   ]
  },
  {
   "cell_type": "code",
   "execution_count": 45,
   "id": "f3a467f0-7b2b-42c6-8d85-b4944fc881aa",
   "metadata": {},
   "outputs": [],
   "source": [
    "# how to drop the colunm \n",
    "car_data=spark.read.csv(\"C:\\\\Users\\\\Dell\\\\Desktop\\\\car_data.csv\",header=True,inferSchema=False)"
   ]
  },
  {
   "cell_type": "code",
   "execution_count": 46,
   "id": "080399ae-e1d2-4e80-9c2f-c8b12cc0b106",
   "metadata": {},
   "outputs": [
    {
     "name": "stdout",
     "output_type": "stream",
     "text": [
      "+--------+----+-------------+-------------+----------+---------+-----------+------------+\n",
      "|Car_Name|Year|Selling_Price|Present_Price|Kms_Driven|Fuel_Type|Seller_Type|Transmission|\n",
      "+--------+----+-------------+-------------+----------+---------+-----------+------------+\n",
      "|    ritz|2014|         3.35|         5.59|     27000|   Petrol|     Dealer|      Manual|\n",
      "|     sx4|2013|         4.75|         9.54|     43000|   Diesel|     Dealer|      Manual|\n",
      "|    ciaz|2017|         7.25|         9.85|      6900|   Petrol|     Dealer|      Manual|\n",
      "| wagon r|2011|         2.85|         4.15|      5200|   Petrol|     Dealer|      Manual|\n",
      "|   swift|2014|          4.6|         6.87|     42450|   Diesel|     Dealer|      Manual|\n",
      "+--------+----+-------------+-------------+----------+---------+-----------+------------+\n",
      "only showing top 5 rows\n"
     ]
    }
   ],
   "source": [
    "car_data.show(5)"
   ]
  },
  {
   "cell_type": "code",
   "execution_count": 47,
   "id": "c7d1cadd-a7e7-48c2-ac22-28b3c372e894",
   "metadata": {},
   "outputs": [],
   "source": [
    "# i want to drop Seller_Type\n",
    "car_data=car_data.drop(\"Seller_Type\")"
   ]
  },
  {
   "cell_type": "code",
   "execution_count": 48,
   "id": "01f0d165-6745-469d-86f1-ec0da497cae8",
   "metadata": {},
   "outputs": [
    {
     "name": "stdout",
     "output_type": "stream",
     "text": [
      "+--------+----+-------------+-------------+----------+---------+------------+\n",
      "|Car_Name|Year|Selling_Price|Present_Price|Kms_Driven|Fuel_Type|Transmission|\n",
      "+--------+----+-------------+-------------+----------+---------+------------+\n",
      "|    ritz|2014|         3.35|         5.59|     27000|   Petrol|      Manual|\n",
      "|     sx4|2013|         4.75|         9.54|     43000|   Diesel|      Manual|\n",
      "|    ciaz|2017|         7.25|         9.85|      6900|   Petrol|      Manual|\n",
      "| wagon r|2011|         2.85|         4.15|      5200|   Petrol|      Manual|\n",
      "|   swift|2014|          4.6|         6.87|     42450|   Diesel|      Manual|\n",
      "+--------+----+-------------+-------------+----------+---------+------------+\n",
      "only showing top 5 rows\n"
     ]
    }
   ],
   "source": [
    "car_data.show(5) "
   ]
  },
  {
   "cell_type": "code",
   "execution_count": 49,
   "id": "f977cc2a-e9d5-4aab-b604-aa619c1622c9",
   "metadata": {},
   "outputs": [],
   "source": [
    "# multiple colunms droping \n",
    "car_data=car_data.drop(\"Year\",\"Fuel_Type\")\n"
   ]
  },
  {
   "cell_type": "code",
   "execution_count": 50,
   "id": "a9ecbdb2-28cf-40db-b608-5be01f122750",
   "metadata": {},
   "outputs": [
    {
     "name": "stdout",
     "output_type": "stream",
     "text": [
      "+--------+-------------+-------------+----------+------------+\n",
      "|Car_Name|Selling_Price|Present_Price|Kms_Driven|Transmission|\n",
      "+--------+-------------+-------------+----------+------------+\n",
      "|    ritz|         3.35|         5.59|     27000|      Manual|\n",
      "|     sx4|         4.75|         9.54|     43000|      Manual|\n",
      "|    ciaz|         7.25|         9.85|      6900|      Manual|\n",
      "| wagon r|         2.85|         4.15|      5200|      Manual|\n",
      "|   swift|          4.6|         6.87|     42450|      Manual|\n",
      "+--------+-------------+-------------+----------+------------+\n",
      "only showing top 5 rows\n"
     ]
    }
   ],
   "source": [
    "car_data.show(5)"
   ]
  },
  {
   "cell_type": "code",
   "execution_count": 51,
   "id": "aa505568-92e7-46eb-8a36-449046b23ae9",
   "metadata": {},
   "outputs": [
    {
     "ename": "NameError",
     "evalue": "name 'missing_values_percent_more_75' is not defined",
     "output_type": "error",
     "traceback": [
      "\u001b[1;31m---------------------------------------------------------------------------\u001b[0m",
      "\u001b[1;31mNameError\u001b[0m                                 Traceback (most recent call last)",
      "Cell \u001b[1;32mIn[51], line 2\u001b[0m\n\u001b[0;32m      1\u001b[0m \u001b[38;5;66;03m# droping from banking project - all that are greater tha 75%\u001b[39;00m\n\u001b[1;32m----> 2\u001b[0m \u001b[38;5;28mlen\u001b[39m(\u001b[43mmissing_values_percent_more_75\u001b[49m)\n",
      "\u001b[1;31mNameError\u001b[0m: name 'missing_values_percent_more_75' is not defined"
     ]
    }
   ],
   "source": [
    "# droping from banking project - all that are greater tha 75%\n",
    "len(missing_values_percent_more_75)"
   ]
  },
  {
   "cell_type": "code",
   "execution_count": 52,
   "id": "82409afa-f3e6-40ac-9128-a1ae78095f09",
   "metadata": {},
   "outputs": [
    {
     "ename": "NameError",
     "evalue": "name 'missing_values_percent_more_75' is not defined",
     "output_type": "error",
     "traceback": [
      "\u001b[1;31m---------------------------------------------------------------------------\u001b[0m",
      "\u001b[1;31mNameError\u001b[0m                                 Traceback (most recent call last)",
      "Cell \u001b[1;32mIn[52], line 1\u001b[0m\n\u001b[1;32m----> 1\u001b[0m \u001b[43mmissing_values_percent_more_75\u001b[49m\u001b[38;5;241m.\u001b[39mkeys()\n",
      "\u001b[1;31mNameError\u001b[0m: name 'missing_values_percent_more_75' is not defined"
     ]
    }
   ],
   "source": [
    "missing_values_percent_more_75.keys()"
   ]
  },
  {
   "cell_type": "code",
   "execution_count": 53,
   "id": "bb0cba77-c601-4408-b5b1-59dbd02e825d",
   "metadata": {},
   "outputs": [
    {
     "ename": "NameError",
     "evalue": "name 'missing_values_percent_more_75' is not defined",
     "output_type": "error",
     "traceback": [
      "\u001b[1;31m---------------------------------------------------------------------------\u001b[0m",
      "\u001b[1;31mNameError\u001b[0m                                 Traceback (most recent call last)",
      "Cell \u001b[1;32mIn[53], line 2\u001b[0m\n\u001b[0;32m      1\u001b[0m \u001b[38;5;66;03m# coverting the above disctionary keys into list \u001b[39;00m\n\u001b[1;32m----> 2\u001b[0m columnstodrop\u001b[38;5;241m=\u001b[39m\u001b[38;5;28mlist\u001b[39m(\u001b[43mmissing_values_percent_more_75\u001b[49m\u001b[38;5;241m.\u001b[39mkeys())\n",
      "\u001b[1;31mNameError\u001b[0m: name 'missing_values_percent_more_75' is not defined"
     ]
    }
   ],
   "source": [
    "# coverting the above disctionary keys into list \n",
    "columnstodrop=list(missing_values_percent_more_75.keys())"
   ]
  },
  {
   "cell_type": "code",
   "execution_count": 54,
   "id": "b8725a3b-f289-476c-8a9a-73410948ca44",
   "metadata": {},
   "outputs": [
    {
     "ename": "NameError",
     "evalue": "name 'columnstodrop' is not defined",
     "output_type": "error",
     "traceback": [
      "\u001b[1;31m---------------------------------------------------------------------------\u001b[0m",
      "\u001b[1;31mNameError\u001b[0m                                 Traceback (most recent call last)",
      "Cell \u001b[1;32mIn[54], line 2\u001b[0m\n\u001b[0;32m      1\u001b[0m \u001b[38;5;66;03m# list of lcumns to drop \u001b[39;00m\n\u001b[1;32m----> 2\u001b[0m \u001b[43mcolumnstodrop\u001b[49m\n",
      "\u001b[1;31mNameError\u001b[0m: name 'columnstodrop' is not defined"
     ]
    }
   ],
   "source": [
    "# list of lcumns to drop \n",
    "columnstodrop"
   ]
  },
  {
   "cell_type": "code",
   "execution_count": 55,
   "id": "e8344c0b-932f-4518-be3c-38c6c992c418",
   "metadata": {},
   "outputs": [],
   "source": [
    "#to drop i am defining a fucntion \n",
    "def drop_colunms(df,c1_list):\n",
    "    for i in c1_list:\n",
    "        df=df.drop(i)\n",
    "    return df"
   ]
  },
  {
   "cell_type": "code",
   "execution_count": 56,
   "id": "0cc2483a-3481-4b90-9df5-10bc9dcfc35d",
   "metadata": {},
   "outputs": [
    {
     "ename": "NameError",
     "evalue": "name 'columnstodrop' is not defined",
     "output_type": "error",
     "traceback": [
      "\u001b[1;31m---------------------------------------------------------------------------\u001b[0m",
      "\u001b[1;31mNameError\u001b[0m                                 Traceback (most recent call last)",
      "Cell \u001b[1;32mIn[56], line 2\u001b[0m\n\u001b[0;32m      1\u001b[0m \u001b[38;5;66;03m# droped \u001b[39;00m\n\u001b[1;32m----> 2\u001b[0m data\u001b[38;5;241m=\u001b[39mdrop_colunms(data,\u001b[43mcolumnstodrop\u001b[49m)\n",
      "\u001b[1;31mNameError\u001b[0m: name 'columnstodrop' is not defined"
     ]
    }
   ],
   "source": [
    "# droped \n",
    "data=drop_colunms(data,columnstodrop)"
   ]
  },
  {
   "cell_type": "code",
   "execution_count": 57,
   "id": "c82be310-60cb-4e51-9646-8fc124469bcd",
   "metadata": {},
   "outputs": [
    {
     "data": {
      "text/plain": [
       "(1048575, 151)"
      ]
     },
     "execution_count": 57,
     "metadata": {},
     "output_type": "execute_result"
    }
   ],
   "source": [
    "# count  to see if they are droped \n",
    "data.count(),len(data.columns)\n",
    "# so from 151 colunms , it became 111 colunms "
   ]
  },
  {
   "cell_type": "code",
   "execution_count": 58,
   "id": "e3b17863-aa2e-4ea1-96cd-b02f229085ea",
   "metadata": {},
   "outputs": [],
   "source": [
    "# so now some colunms are dropped , \n",
    "# #instead  i can write a list comprehision \n",
    "# columns_A7=[i for i in data.columns[0:7]]\n",
    "# columns_B7=[i for i in data.columns[7:14]]\n",
    "# columns_C7=[i for i in data.columns[14:21]]\n",
    "# columns_D7=[i for i in data.columns[21:28]]\n",
    "# columns_E7=[i for i in data.columns[28:35]]\n",
    "\n",
    "# this code which we wrote is when all the colunms are present , \n",
    "# now we have to rerun this again \n",
    "\n",
    "\n",
    "columns_A7=[i for i in data.columns[0:7]]\n",
    "columns_B7=[i for i in data.columns[7:14]]\n",
    "columns_C7=[i for i in data.columns[14:21]]\n",
    "columns_D7=[i for i in data.columns[21:28]]\n",
    "columns_E7=[i for i in data.columns[28:35]]"
   ]
  },
  {
   "cell_type": "code",
   "execution_count": 59,
   "id": "cc5d454e-918f-43f5-a31b-09809b6f70a1",
   "metadata": {},
   "outputs": [
    {
     "name": "stdout",
     "output_type": "stream",
     "text": [
      "+--------+---------+---------+-----------+---------------+----------+--------+\n",
      "|      id|member_id|loan_amnt|funded_amnt|funded_amnt_inv|      term|int_rate|\n",
      "+--------+---------+---------+-----------+---------------+----------+--------+\n",
      "|68407277|     NULL|     3600|       3600|         3600.0| 36 months|   13.99|\n",
      "|68355089|     NULL|    24700|      24700|        24700.0| 36 months|   11.99|\n",
      "|68341763|     NULL|    20000|      20000|        20000.0| 60 months|   10.78|\n",
      "|66310712|     NULL|    35000|      35000|        35000.0| 60 months|   14.85|\n",
      "|68476807|     NULL|    10400|      10400|        10400.0| 60 months|   22.45|\n",
      "+--------+---------+---------+-----------+---------------+----------+--------+\n",
      "only showing top 5 rows\n"
     ]
    }
   ],
   "source": [
    "data.select(columns_A7).show(5)\n",
    "## here member id and other columns which has more than 75% missinf values "
   ]
  },
  {
   "cell_type": "code",
   "execution_count": 60,
   "id": "d1c30ed0-e6a6-4585-b1d6-8f303781b5e8",
   "metadata": {},
   "outputs": [
    {
     "name": "stdout",
     "output_type": "stream",
     "text": [
      "+--------+\n",
      "|      id|\n",
      "+--------+\n",
      "|68433333|\n",
      "|68496924|\n",
      "|68338713|\n",
      "|68356724|\n",
      "|68338676|\n",
      "+--------+\n",
      "only showing top 5 rows\n"
     ]
    }
   ],
   "source": [
    "# for the 111 colunms we need to do cleaning \n",
    "# lets do fist by each colunm \n",
    "\n",
    "# verify if each colunm has duplciates or not \n",
    "data.select(\"id\").distinct().show(5)\n"
   ]
  },
  {
   "cell_type": "code",
   "execution_count": 61,
   "id": "32c736ff-4e17-4060-acec-76704c8589f6",
   "metadata": {},
   "outputs": [
    {
     "name": "stdout",
     "output_type": "stream",
     "text": [
      "+---------+\n",
      "|  min(id)|\n",
      "+---------+\n",
      "|100001562|\n",
      "+---------+\n",
      "\n"
     ]
    }
   ],
   "source": [
    "# check the min  and max of each colunm \n",
    "data.select(min(\"id\")).show()"
   ]
  },
  {
   "cell_type": "code",
   "execution_count": 62,
   "id": "fe63d31f-4c5f-442d-91dd-680b1df2bdc7",
   "metadata": {},
   "outputs": [
    {
     "name": "stdout",
     "output_type": "stream",
     "text": [
      "+-----------------------------------------------+\n",
      "|max(id)                                        |\n",
      "+-----------------------------------------------+\n",
      "|Total amount funded in policy code 2: 823319310|\n",
      "+-----------------------------------------------+\n",
      "\n"
     ]
    }
   ],
   "source": [
    "# in this we found that id has some text characters which should not be there\n",
    "data.select(max(\"id\")).show(1,False)"
   ]
  },
  {
   "cell_type": "code",
   "execution_count": 63,
   "id": "6bb972b8-0faa-4b41-8b1b-dae04b3c3d6e",
   "metadata": {},
   "outputs": [
    {
     "name": "stdout",
     "output_type": "stream",
     "text": [
      "+------------------------------------------------+\n",
      "|id                                              |\n",
      "+------------------------------------------------+\n",
      "|Total amount funded in policy code 2: 823319310 |\n",
      "|Total amount funded in policy code 2: 651669342 |\n",
      "|Total amount funded in policy code 2: 608903141 |\n",
      "|Total amount funded in policy code 2: 564202131 |\n",
      "|Total amount funded in policy code 2: 511988838 |\n",
      "|Total amount funded in policy code 2: 1944088810|\n",
      "|Total amount funded in policy code 1: 6417608175|\n",
      "|Total amount funded in policy code 1: 2063142975|\n",
      "|Total amount funded in policy code 1: 1791201400|\n",
      "|Total amount funded in policy code 1: 1741781700|\n",
      "|Total amount funded in policy code 1: 1538432075|\n",
      "|Total amount funded in policy code 1: 1443412975|\n",
      "|99997746                                        |\n",
      "|99997705                                        |\n",
      "|99997602                                        |\n",
      "|99997118                                        |\n",
      "|99997100                                        |\n",
      "|99996455                                        |\n",
      "|99995511                                        |\n",
      "|99995226                                        |\n",
      "|99995092                                        |\n",
      "|99987495                                        |\n",
      "|99986712                                        |\n",
      "|99986481                                        |\n",
      "|99986434                                        |\n",
      "|99986050                                        |\n",
      "|99986011                                        |\n",
      "|99984756                                        |\n",
      "|99982772                                        |\n",
      "|99981908                                        |\n",
      "|99977324                                        |\n",
      "|99975680                                        |\n",
      "|99975446                                        |\n",
      "|99975274                                        |\n",
      "|99975250                                        |\n",
      "|99974221                                        |\n",
      "|99967449                                        |\n",
      "|99967163                                        |\n",
      "|99966690                                        |\n",
      "|99966658                                        |\n",
      "|99965614                                        |\n",
      "|99964323                                        |\n",
      "|99962003                                        |\n",
      "|99961780                                        |\n",
      "|99957400                                        |\n",
      "|99956528                                        |\n",
      "|99956272                                        |\n",
      "|99955464                                        |\n",
      "|99954998                                        |\n",
      "|99953867                                        |\n",
      "+------------------------------------------------+\n",
      "only showing top 50 rows\n"
     ]
    }
   ],
   "source": [
    "# to find if id columns has other chaarcters,  we use order by \n",
    "data.select(\"id\").distinct().orderBy(desc(\"id\")).show(50,False)"
   ]
  },
  {
   "cell_type": "code",
   "execution_count": 64,
   "id": "205604e9-356f-4335-b6d5-5e3094aafbb4",
   "metadata": {},
   "outputs": [
    {
     "data": {
      "text/plain": [
       "12"
      ]
     },
     "execution_count": 64,
     "metadata": {},
     "output_type": "execute_result"
    }
   ],
   "source": [
    "# to find how many of them are like that \n",
    "data.select(\"id\").filter(col(\"id\").like(\"%Total amount funded in policy code%\")).count()"
   ]
  },
  {
   "cell_type": "code",
   "execution_count": 65,
   "id": "f4419e9d-060f-41c9-b2a4-8e02765b910e",
   "metadata": {},
   "outputs": [
    {
     "data": {
      "text/plain": [
       "12"
      ]
     },
     "execution_count": 65,
     "metadata": {},
     "output_type": "execute_result"
    }
   ],
   "source": [
    "# to find easliy if the colunm id has anything other than number \n",
    "# using rlike() - regular expression like \n",
    "data.select(\"id\").filter(col(\"id\").rlike(\"^[A-Za-z]\")).count()"
   ]
  },
  {
   "cell_type": "code",
   "execution_count": 66,
   "id": "78b562c5-b596-4f38-b86c-88383cfdfc28",
   "metadata": {},
   "outputs": [
    {
     "name": "stdout",
     "output_type": "stream",
     "text": [
      "+------------------------------------------------+---------+---------+-----------+---------------+----+--------+\n",
      "|id                                              |member_id|loan_amnt|funded_amnt|funded_amnt_inv|term|int_rate|\n",
      "+------------------------------------------------+---------+---------+-----------+---------------+----+--------+\n",
      "|Total amount funded in policy code 1: 6417608175|NULL     |NULL     |NULL       |NULL           |NULL|NULL    |\n",
      "|Total amount funded in policy code 2: 1944088810|NULL     |NULL     |NULL       |NULL           |NULL|NULL    |\n",
      "|Total amount funded in policy code 1: 1741781700|NULL     |NULL     |NULL       |NULL           |NULL|NULL    |\n",
      "|Total amount funded in policy code 2: 564202131 |NULL     |NULL     |NULL       |NULL           |NULL|NULL    |\n",
      "|Total amount funded in policy code 1: 1791201400|NULL     |NULL     |NULL       |NULL           |NULL|NULL    |\n",
      "|Total amount funded in policy code 2: 651669342 |NULL     |NULL     |NULL       |NULL           |NULL|NULL    |\n",
      "|Total amount funded in policy code 1: 1443412975|NULL     |NULL     |NULL       |NULL           |NULL|NULL    |\n",
      "|Total amount funded in policy code 2: 511988838 |NULL     |NULL     |NULL       |NULL           |NULL|NULL    |\n",
      "|Total amount funded in policy code 1: 2063142975|NULL     |NULL     |NULL       |NULL           |NULL|NULL    |\n",
      "|Total amount funded in policy code 2: 823319310 |NULL     |NULL     |NULL       |NULL           |NULL|NULL    |\n",
      "+------------------------------------------------+---------+---------+-----------+---------------+----+--------+\n",
      "only showing top 10 rows\n"
     ]
    }
   ],
   "source": [
    "# this is to find if any other colunms alos has characters \n",
    "# we are doing this writh respect to id \n",
    "data.select(columns_A7).filter(col(\"id\").rlike(\"^[A-Za-z]\")).show(10,False)"
   ]
  },
  {
   "cell_type": "code",
   "execution_count": 67,
   "id": "1c6ed931-6bdd-47d6-a0fc-800dc0eaa5df",
   "metadata": {},
   "outputs": [
    {
     "name": "stdout",
     "output_type": "stream",
     "text": [
      "+------------------------------------------------+---------+---------+-----------+---------------+----+--------+\n",
      "|id                                              |member_id|loan_amnt|funded_amnt|funded_amnt_inv|term|int_rate|\n",
      "+------------------------------------------------+---------+---------+-----------+---------------+----+--------+\n",
      "|Total amount funded in policy code 1: 6417608175|NULL     |NULL     |NULL       |NULL           |NULL|NULL    |\n",
      "|Total amount funded in policy code 2: 1944088810|NULL     |NULL     |NULL       |NULL           |NULL|NULL    |\n",
      "|Total amount funded in policy code 1: 1741781700|NULL     |NULL     |NULL       |NULL           |NULL|NULL    |\n",
      "|Total amount funded in policy code 2: 564202131 |NULL     |NULL     |NULL       |NULL           |NULL|NULL    |\n",
      "|Total amount funded in policy code 1: 1791201400|NULL     |NULL     |NULL       |NULL           |NULL|NULL    |\n",
      "|Total amount funded in policy code 2: 651669342 |NULL     |NULL     |NULL       |NULL           |NULL|NULL    |\n",
      "|Total amount funded in policy code 1: 1443412975|NULL     |NULL     |NULL       |NULL           |NULL|NULL    |\n",
      "|Total amount funded in policy code 2: 511988838 |NULL     |NULL     |NULL       |NULL           |NULL|NULL    |\n",
      "|Total amount funded in policy code 1: 2063142975|NULL     |NULL     |NULL       |NULL           |NULL|NULL    |\n",
      "|Total amount funded in policy code 2: 823319310 |NULL     |NULL     |NULL       |NULL           |NULL|NULL    |\n",
      "+------------------------------------------------+---------+---------+-----------+---------------+----+--------+\n",
      "only showing top 10 rows\n"
     ]
    }
   ],
   "source": [
    "# this find specific to id colunm \n",
    "data.select(columns_A7).filter(col(\"id\").like(\"%Total amount funded in policy code%\")).show(10,False)"
   ]
  },
  {
   "cell_type": "code",
   "execution_count": 68,
   "id": "3f671420-be94-40f9-a8d1-29eb8aa4cfd5",
   "metadata": {},
   "outputs": [
    {
     "data": {
      "text/plain": [
       "1048575"
      ]
     },
     "execution_count": 68,
     "metadata": {},
     "output_type": "execute_result"
    }
   ],
   "source": [
    "data.count()\n",
    "# from this we found that 12 colunms of id with the string values---> has null in all other coulnms\n",
    "# as well -- so its better to drop these 12 columns \n"
   ]
  },
  {
   "cell_type": "code",
   "execution_count": 69,
   "id": "eaaec89b-7859-4d26-9099-2024cc71a522",
   "metadata": {},
   "outputs": [],
   "source": [
    "# now we are droping these 12 ROWS with null values in the colunms\n",
    "# we are checking all the colunms and then filter with respect to id\n",
    "# if any colunm has charcters like A-Za-z, it will be see\n",
    "# but ~ will do opposite of what is asked \n",
    "data=data.select(\"*\").filter(~col(\"id\").rlike(\"^[A-Za-z]\"))"
   ]
  },
  {
   "cell_type": "code",
   "execution_count": 70,
   "id": "721acf15-3793-4b4f-a426-6e1d17ce40a5",
   "metadata": {},
   "outputs": [
    {
     "data": {
      "text/plain": [
       "pyspark.sql.classic.dataframe.DataFrame"
      ]
     },
     "execution_count": 70,
     "metadata": {},
     "output_type": "execute_result"
    }
   ],
   "source": [
    "# if suddenly the type of data frame becomes none type instead of pyspark\n",
    "# run the path of data code again and then check the tyep \n",
    "type(data)\n"
   ]
  },
  {
   "cell_type": "code",
   "execution_count": 71,
   "id": "64acf9f2-900d-4433-8890-c67887d4a011",
   "metadata": {},
   "outputs": [
    {
     "data": {
      "text/plain": [
       "1048563"
      ]
     },
     "execution_count": 71,
     "metadata": {},
     "output_type": "execute_result"
    }
   ],
   "source": [
    "data.count()\n",
    "# now the 12 rows are removed "
   ]
  },
  {
   "cell_type": "code",
   "execution_count": 72,
   "id": "90b82fa9-5ca1-4cc0-a04a-e082480816ca",
   "metadata": {},
   "outputs": [
    {
     "name": "stdout",
     "output_type": "stream",
     "text": [
      "+--------+---------+---------+-----------+---------------+----------+--------+\n",
      "|id      |member_id|loan_amnt|funded_amnt|funded_amnt_inv|term      |int_rate|\n",
      "+--------+---------+---------+-----------+---------------+----------+--------+\n",
      "|68407277|NULL     |3600     |3600       |3600.0         | 36 months|13.99   |\n",
      "|68355089|NULL     |24700    |24700      |24700.0        | 36 months|11.99   |\n",
      "|68341763|NULL     |20000    |20000      |20000.0        | 60 months|10.78   |\n",
      "|66310712|NULL     |35000    |35000      |35000.0        | 60 months|14.85   |\n",
      "|68476807|NULL     |10400    |10400      |10400.0        | 60 months|22.45   |\n",
      "+--------+---------+---------+-----------+---------------+----------+--------+\n",
      "only showing top 5 rows\n"
     ]
    }
   ],
   "source": [
    "data.select(columns_A7).show(5,False)"
   ]
  },
  {
   "cell_type": "code",
   "execution_count": 73,
   "id": "130b1499-4b12-4b4d-870c-32d0040152cb",
   "metadata": {},
   "outputs": [
    {
     "name": "stdout",
     "output_type": "stream",
     "text": [
      "+----------+\n",
      "|      term|\n",
      "+----------+\n",
      "| 36 months|\n",
      "| 60 months|\n",
      "+----------+\n",
      "\n"
     ]
    }
   ],
   "source": [
    "# clean the colunm term \n",
    "data.select(\"term\").distinct().show(10)\n",
    "\n",
    "# in case we want to calucte the average term , we cannot do it as this colunms has \n",
    "# \"months \" word in it , which wont allow for any calucations "
   ]
  },
  {
   "cell_type": "code",
   "execution_count": 74,
   "id": "685ac7f2-c9eb-4ae5-975e-31588a27f83d",
   "metadata": {},
   "outputs": [],
   "source": [
    "#so to do calucations i will convert it into :\n",
    "# term in month 36 \n",
    "# term in month 60 \n",
    "#first create a new colunm , then use regexp_replace() fucntion --it is a in bulit function\n",
    "# replacter in term colunm --\"months\" word---with \"\" nothing , means empty\n",
    "# trim is used to remove spaces \n",
    "\n",
    "data=data.withColumn(\"term_in_months\",trim(regexp_replace(col(\"term\"),\"months\",\"\")))"
   ]
  },
  {
   "cell_type": "code",
   "execution_count": 75,
   "id": "df32fd76-5163-47b8-b8c7-bb9af473cf2e",
   "metadata": {},
   "outputs": [
    {
     "name": "stdout",
     "output_type": "stream",
     "text": [
      "+----------+--------------+\n",
      "|      term|term_in_months|\n",
      "+----------+--------------+\n",
      "| 36 months|            36|\n",
      "| 60 months|            60|\n",
      "+----------+--------------+\n",
      "\n"
     ]
    }
   ],
   "source": [
    "\n",
    "#changes \n",
    "data.select(\"term\",\"term_in_months\").distinct().show()"
   ]
  },
  {
   "cell_type": "code",
   "execution_count": 76,
   "id": "c06d67fd-cee3-4a6b-a8c3-335a48df0a2c",
   "metadata": {},
   "outputs": [
    {
     "name": "stdout",
     "output_type": "stream",
     "text": [
      "+-----------+-----+---------+---------------------------+----------+--------------+----------+\n",
      "|installment|grade|sub_grade|emp_title                  |emp_length|home_ownership|annual_inc|\n",
      "+-----------+-----+---------+---------------------------+----------+--------------+----------+\n",
      "|123.03     |C    |C4       |leadman                    |10+ years |MORTGAGE      |55000.0   |\n",
      "|820.28     |C    |C1       |Engineer                   |10+ years |MORTGAGE      |65000.0   |\n",
      "|432.66     |B    |B4       |truck driver               |10+ years |MORTGAGE      |63000.0   |\n",
      "|829.9      |C    |C5       |Information Systems Officer|10+ years |MORTGAGE      |110000.0  |\n",
      "|289.91     |F    |F1       |Contract Specialist        |3 years   |MORTGAGE      |104433.0  |\n",
      "+-----------+-----+---------+---------------------------+----------+--------------+----------+\n",
      "only showing top 5 rows\n"
     ]
    }
   ],
   "source": [
    "# we are cleaning categorical data first \n",
    "# now lets see other colunms \n",
    "\n",
    "data.select(columns_B7).show(5,False)"
   ]
  },
  {
   "cell_type": "code",
   "execution_count": 77,
   "id": "b8dd7204-0042-48ba-9024-a7608d829d02",
   "metadata": {},
   "outputs": [
    {
     "name": "stdout",
     "output_type": "stream",
     "text": [
      "+----------+\n",
      "|emp_length|\n",
      "+----------+\n",
      "|   5 years|\n",
      "|   9 years|\n",
      "|    1 year|\n",
      "|   2 years|\n",
      "|   7 years|\n",
      "|   8 years|\n",
      "|   4 years|\n",
      "|   6 years|\n",
      "|   3 years|\n",
      "| 10+ years|\n",
      "|  < 1 year|\n",
      "|      NULL|\n",
      "+----------+\n",
      "\n"
     ]
    }
   ],
   "source": [
    "# cleanign emp_lenght \n",
    "data.select(\"emp_length\").distinct().show(20)"
   ]
  },
  {
   "cell_type": "code",
   "execution_count": 78,
   "id": "f34f138e-3645-45bf-814a-948adbf2b1a2",
   "metadata": {},
   "outputs": [
    {
     "name": "stdout",
     "output_type": "stream",
     "text": [
      "+---+---------+---------+-----------+---------------+----+--------+\n",
      "| id|member_id|loan_amnt|funded_amnt|funded_amnt_inv|term|int_rate|\n",
      "+---+---------+---------+-----------+---------------+----+--------+\n",
      "+---+---------+---------+-----------+---------------+----+--------+\n",
      "\n"
     ]
    }
   ],
   "source": [
    "# finding the row with \"reactors\" which is how above .. all colmns form A7 as well\n",
    "\n",
    "data.select(columns_A7).filter(col('emp_length')==' reactors\"').show(10)"
   ]
  },
  {
   "cell_type": "code",
   "execution_count": 79,
   "id": "8a744b2a-4f33-4ad4-bcf9-f9d01024131a",
   "metadata": {},
   "outputs": [
    {
     "name": "stdout",
     "output_type": "stream",
     "text": [
      "+-----------+-----+---------+---------+----------+--------------+----------+\n",
      "|installment|grade|sub_grade|emp_title|emp_length|home_ownership|annual_inc|\n",
      "+-----------+-----+---------+---------+----------+--------------+----------+\n",
      "+-----------+-----+---------+---------+----------+--------------+----------+\n",
      "\n"
     ]
    }
   ],
   "source": [
    "#same with B7 \n",
    "# emp_title shouls have reactors , but it was splited and lead to moving \n",
    "# reactors to emp_leght , 2 years to home owener \n",
    "data.select(columns_B7).filter(col('emp_length')==' reactors\"').show(10)"
   ]
  },
  {
   "cell_type": "code",
   "execution_count": 80,
   "id": "77e2a7f2-3a48-4c3f-a30d-7fbcb79b3eb1",
   "metadata": {},
   "outputs": [],
   "source": [
    "# we can use \"escape\" for ignoring \"\" in the above isssue ,\n",
    "# write escape ='\"' in the path at the starting "
   ]
  },
  {
   "cell_type": "code",
   "execution_count": 81,
   "id": "6f637ecd-c8c9-49b1-89f4-ad062b9e8965",
   "metadata": {},
   "outputs": [
    {
     "name": "stdout",
     "output_type": "stream",
     "text": [
      "+----------+\n",
      "|emp_length|\n",
      "+----------+\n",
      "|   5 years|\n",
      "|   9 years|\n",
      "|    1 year|\n",
      "|   2 years|\n",
      "|   7 years|\n",
      "|   8 years|\n",
      "|   4 years|\n",
      "|   6 years|\n",
      "|   3 years|\n",
      "| 10+ years|\n",
      "|  < 1 year|\n",
      "|      NULL|\n",
      "+----------+\n",
      "\n"
     ]
    }
   ],
   "source": [
    "# now reactor wont be seen \n",
    "data.select(\"emp_length\").distinct().show(20)"
   ]
  },
  {
   "cell_type": "code",
   "execution_count": 82,
   "id": "576f63bd-1df4-494d-8e34-5743bcb53ee9",
   "metadata": {},
   "outputs": [],
   "source": [
    "# now cleaning this column, remvoing years ,year,<,+,spacesso that we can acess only integers\n",
    "\n",
    "#use trim to remove spaces \n",
    "\n",
    "data=data.withColumn(\"emp_length_in_years\",regexp_replace(col(\"emp_length\"),\"years\",\"\"))\n",
    "data=data.withColumn(\"emp_length_in_years\",regexp_replace(col(\"emp_length\"),\"year\",\"\"))\n",
    "data=data.withColumn(\"emp_length_in_years\",regexp_replace(col(\"emp_length\"),\"+\",\"\"))\n",
    "data=data.withColumn(\"emp_length_in_years\",regexp_replace(col(\"emp_length\"),\"<\",\"\"))\n",
    "data=data.withColumn(\"emp_legth_in_years\",trim(col(\"emp_length\")))\n"
   ]
  },
  {
   "cell_type": "code",
   "execution_count": 83,
   "id": "d1ee487a-3b46-4dc4-9a56-efed2a9ecd87",
   "metadata": {},
   "outputs": [],
   "source": [
    "# instead of replacing everything we can \"d+\" to acess digtis and regular expresision_extact ,and indexing with zero if we want zero-th element fro mutiple number\n",
    "# no special characters will be extracted \n",
    "#syntax-regexp_extract(str,pattern,index)\n",
    "\n",
    "data=data.withColumn(\"emp_length_in_years\",regexp_extract(col(\"emp_length\"),\"\\\\d+\",0))"
   ]
  },
  {
   "cell_type": "code",
   "execution_count": 84,
   "id": "46ec88cd-511c-4074-a81e-7f10dc05ba69",
   "metadata": {},
   "outputs": [
    {
     "name": "stdout",
     "output_type": "stream",
     "text": [
      "+----------+-------------------+\n",
      "|emp_length|emp_length_in_years|\n",
      "+----------+-------------------+\n",
      "|   6 years|                  6|\n",
      "|   3 years|                  3|\n",
      "| 10+ years|                 10|\n",
      "|   7 years|                  7|\n",
      "|  < 1 year|                  1|\n",
      "|   4 years|                  4|\n",
      "|   8 years|                  8|\n",
      "|   2 years|                  2|\n",
      "|   9 years|                  9|\n",
      "|    1 year|                  1|\n",
      "|   5 years|                  5|\n",
      "|      NULL|               NULL|\n",
      "+----------+-------------------+\n",
      "\n"
     ]
    }
   ],
   "source": [
    "data.select(\"emp_length\",\"emp_length_in_years\").distinct().show(20)"
   ]
  },
  {
   "cell_type": "code",
   "execution_count": 85,
   "id": "54dafcb3-36a9-4c71-bea5-727fa8fd12af",
   "metadata": {},
   "outputs": [
    {
     "name": "stdout",
     "output_type": "stream",
     "text": [
      "+-----------+-----+---------+--------------------+----------+--------------+----------+\n",
      "|installment|grade|sub_grade|           emp_title|emp_length|home_ownership|annual_inc|\n",
      "+-----------+-----+---------+--------------------+----------+--------------+----------+\n",
      "|     123.03|    C|       C4|             leadman| 10+ years|      MORTGAGE|   55000.0|\n",
      "|     820.28|    C|       C1|            Engineer| 10+ years|      MORTGAGE|   65000.0|\n",
      "|     432.66|    B|       B4|        truck driver| 10+ years|      MORTGAGE|   63000.0|\n",
      "|      829.9|    C|       C5|Information Syste...| 10+ years|      MORTGAGE|  110000.0|\n",
      "|     289.91|    F|       F1| Contract Specialist|   3 years|      MORTGAGE|  104433.0|\n",
      "+-----------+-----+---------+--------------------+----------+--------------+----------+\n",
      "only showing top 5 rows\n"
     ]
    }
   ],
   "source": [
    "# other colunm \n",
    "data.select(columns_B7).show(5)"
   ]
  },
  {
   "cell_type": "code",
   "execution_count": 86,
   "id": "d39e7036-c447-44a4-97dd-bc48df496426",
   "metadata": {},
   "outputs": [
    {
     "name": "stdout",
     "output_type": "stream",
     "text": [
      "+-----+\n",
      "|grade|\n",
      "+-----+\n",
      "|    F|\n",
      "|    E|\n",
      "|    B|\n",
      "|    D|\n",
      "|    C|\n",
      "|    A|\n",
      "|    G|\n",
      "+-----+\n",
      "\n"
     ]
    }
   ],
   "source": [
    "# grade colunm cleaning \n",
    "# finding duplicates \n",
    "data.select(\"grade\").distinct().show(10)"
   ]
  },
  {
   "cell_type": "code",
   "execution_count": 87,
   "id": "531e1a50-dc22-423b-b058-6fbda7402c54",
   "metadata": {},
   "outputs": [
    {
     "name": "stdout",
     "output_type": "stream",
     "text": [
      "+---+---------+---------+-----------+---------------+----+--------+\n",
      "| id|member_id|loan_amnt|funded_amnt|funded_amnt_inv|term|int_rate|\n",
      "+---+---------+---------+-----------+---------------+----+--------+\n",
      "+---+---------+---------+-----------+---------------+----+--------+\n",
      "\n"
     ]
    }
   ],
   "source": [
    "data.select(columns_A7).filter(col(\"grade\").isNull()).show(10)"
   ]
  },
  {
   "cell_type": "code",
   "execution_count": 88,
   "id": "069b71f7-0100-41b5-b648-797e40c86c5d",
   "metadata": {},
   "outputs": [
    {
     "name": "stdout",
     "output_type": "stream",
     "text": [
      "+-----+\n",
      "|grade|\n",
      "+-----+\n",
      "+-----+\n",
      "\n"
     ]
    }
   ],
   "source": [
    "#grdae is singel digit and it should be only one in all row , FF is  not possible \n",
    "# check if the garde in all row is one character only or not\n",
    "# it is empty menaing that all the row have garde with one character only \n",
    "# so nothing to clean \n",
    "data.select(\"grade\").filter(length(col(\"grade\"))>1).show()"
   ]
  },
  {
   "cell_type": "code",
   "execution_count": 89,
   "id": "ebcfe5a4-7cfa-4ec0-8ecf-3bd30a1b2988",
   "metadata": {},
   "outputs": [
    {
     "name": "stdout",
     "output_type": "stream",
     "text": [
      "+---------+\n",
      "|sub_grade|\n",
      "+---------+\n",
      "|       D5|\n",
      "|       F2|\n",
      "|       B4|\n",
      "|       A2|\n",
      "|       E4|\n",
      "|       B2|\n",
      "|       C3|\n",
      "|       D1|\n",
      "|       C4|\n",
      "|       F1|\n",
      "+---------+\n",
      "only showing top 10 rows\n"
     ]
    }
   ],
   "source": [
    "# subgrade column\n",
    "\n",
    "data.select(\"sub_grade\").distinct().show(10)"
   ]
  },
  {
   "cell_type": "code",
   "execution_count": 90,
   "id": "e2bd9419-494e-409f-8ce8-016c0e6714a0",
   "metadata": {},
   "outputs": [
    {
     "name": "stdout",
     "output_type": "stream",
     "text": [
      "+---------+\n",
      "|sub_grade|\n",
      "+---------+\n",
      "+---------+\n",
      "\n"
     ]
    }
   ],
   "source": [
    "# so sub grade has 2 charcaters , check if all the rows h=in sub grade have 2 characters only or not -- and it should not give any results to be correct\n",
    "# it give empty which means no  sub grade is greater than 2 characters\n",
    "data.select(\"sub_grade\").filter(length(col(\"sub_grade\"))>2).show(10)"
   ]
  },
  {
   "cell_type": "code",
   "execution_count": 91,
   "id": "ec2cfbc5-4ce0-4360-8040-c62528f3ef37",
   "metadata": {},
   "outputs": [],
   "source": [
    "#in real time also documentation like below is required \n",
    "#colunms cleaned till now\n",
    "# removed 40 colunms (missing values more than 75 removed)\n",
    "#term---terms in months\n",
    "# emp_lenght---emp_lenght_in_years\n",
    "#grade--checked--no change\n",
    "#sub grade--checked--no change\n",
    "#repalced null values in emp title wit others "
   ]
  },
  {
   "cell_type": "code",
   "execution_count": 92,
   "id": "bf0439d1-0c8a-4160-bda8-647fa9a51b87",
   "metadata": {},
   "outputs": [
    {
     "name": "stdout",
     "output_type": "stream",
     "text": [
      "+------------------------------------+\n",
      "|emp_title                           |\n",
      "+------------------------------------+\n",
      "|Physician                           |\n",
      "|Systems Administrator II            |\n",
      "|librarian                           |\n",
      "|PAYABLES                            |\n",
      "|Client Support Specialist II        |\n",
      "|CSR                                 |\n",
      "|Technitian                          |\n",
      "|machinist                           |\n",
      "|Financial assistant                 |\n",
      "|Scientist                           |\n",
      "|Digital Marketing Manager           |\n",
      "|Service Writer                      |\n",
      "|Risk Manager II                     |\n",
      "|Vice President, Director of Research|\n",
      "|Regional sales manager              |\n",
      "|Tax Collections Supervisor          |\n",
      "|Park Manager                        |\n",
      "|Behavior specialist                 |\n",
      "|Lead organizer                      |\n",
      "|Journeyman Electrician              |\n",
      "|Content Editor                      |\n",
      "|Senior system                       |\n",
      "|Remedial Project Manager            |\n",
      "|Clinic Director                     |\n",
      "|director of underwriting & funding  |\n",
      "|Sanitation worker                   |\n",
      "|BULK DRIVER                         |\n",
      "|IT Development Manager              |\n",
      "|Testing Specialist                  |\n",
      "|Implementation Consultant           |\n",
      "|financial consultant                |\n",
      "|Deli Attendant                      |\n",
      "|Training Specialist                 |\n",
      "|Senior Solution Consultant          |\n",
      "|Government info. Specialist         |\n",
      "|Affiliate Manager                   |\n",
      "|Product Inspector                   |\n",
      "|Direct Support Professional         |\n",
      "|Service Engeneer                    |\n",
      "|crossing guard                      |\n",
      "+------------------------------------+\n",
      "only showing top 40 rows\n"
     ]
    }
   ],
   "source": [
    " # ttile colunm--- people who can take loan \n",
    "data.select(\"emp_title\").distinct().show(40,False)"
   ]
  },
  {
   "cell_type": "code",
   "execution_count": 93,
   "id": "0e817887-95a1-4347-a6a7-6f959da27f0e",
   "metadata": {},
   "outputs": [],
   "source": [
    "# emp title has missing values as seen in starting ---like aorund 7% missing values"
   ]
  },
  {
   "cell_type": "code",
   "execution_count": 94,
   "id": "76d46a42-a00b-4254-84eb-17f0936515ea",
   "metadata": {},
   "outputs": [
    {
     "name": "stdout",
     "output_type": "stream",
     "text": [
      "+------------------------+-----+\n",
      "|emp_title               |count|\n",
      "+------------------------+-----+\n",
      "|NULL                    |73479|\n",
      "|Teacher                 |19859|\n",
      "|Manager                 |17547|\n",
      "|Owner                   |11416|\n",
      "|Registered Nurse        |7918 |\n",
      "|RN                      |7523 |\n",
      "|Driver                  |7411 |\n",
      "|Supervisor              |7357 |\n",
      "|Sales                   |6720 |\n",
      "|Project Manager         |5576 |\n",
      "|Office Manager          |4997 |\n",
      "|General Manager         |4683 |\n",
      "|Director                |4647 |\n",
      "|owner                   |4551 |\n",
      "|President               |3969 |\n",
      "|Engineer                |3802 |\n",
      "|manager                 |3614 |\n",
      "|teacher                 |3523 |\n",
      "|Operations Manager      |3095 |\n",
      "|Vice President          |2977 |\n",
      "|driver                  |2846 |\n",
      "|Accountant              |2831 |\n",
      "|Attorney                |2831 |\n",
      "|Sales Manager           |2803 |\n",
      "|Administrative Assistant|2718 |\n",
      "|Nurse                   |2629 |\n",
      "|Truck Driver            |2469 |\n",
      "|Account Manager         |2438 |\n",
      "|Technician              |2350 |\n",
      "|Police Officer          |2259 |\n",
      "|Analyst                 |2203 |\n",
      "|Server                  |2144 |\n",
      "|Executive Assistant     |2074 |\n",
      "|Store Manager           |2069 |\n",
      "|sales                   |2011 |\n",
      "|Paralegal               |1926 |\n",
      "|Software Engineer       |1904 |\n",
      "|Mechanic                |1840 |\n",
      "|supervisor              |1802 |\n",
      "|Consultant              |1739 |\n",
      "|Program Manager         |1669 |\n",
      "|CEO                     |1664 |\n",
      "|Controller              |1661 |\n",
      "|Assistant Manager       |1655 |\n",
      "|Branch Manager          |1610 |\n",
      "|Supervisor              |1595 |\n",
      "|Foreman                 |1546 |\n",
      "|Administrator           |1526 |\n",
      "|truck driver            |1520 |\n",
      "|Electrician             |1510 |\n",
      "+------------------------+-----+\n",
      "only showing top 50 rows\n"
     ]
    }
   ],
   "source": [
    "data.groupby(\"emp_title\").count().orderBy(desc(\"count\")).show(50,False)"
   ]
  },
  {
   "cell_type": "code",
   "execution_count": 95,
   "id": "63be1fa4-9ade-41db-bdf0-3b92a6683dc5",
   "metadata": {},
   "outputs": [],
   "source": [
    "# if you see in above output, teacher, manager and some others are given two times-- this is beacuse they are case sensitive\n",
    "# teacher--- Teacher both are same only , os we are equaling them with upper and lower case ---we are suing lower() fucntion \n",
    "\n",
    "\n",
    "# can use initcap() as well instead pf lower()---> will convert first charcter into lower case \n",
    "data=data.withColumn(\"emp_title\",lower(col(\"emp_title\")))"
   ]
  },
  {
   "cell_type": "code",
   "execution_count": 96,
   "id": "3af637ed-c3f5-41eb-a461-c72ad7fdf161",
   "metadata": {},
   "outputs": [
    {
     "name": "stdout",
     "output_type": "stream",
     "text": [
      "+------------------------+-----+\n",
      "|emp_title               |count|\n",
      "+------------------------+-----+\n",
      "|NULL                    |73479|\n",
      "|teacher                 |23706|\n",
      "|manager                 |21888|\n",
      "|owner                   |16654|\n",
      "|registered nurse        |10682|\n",
      "|driver                  |10595|\n",
      "|supervisor              |9508 |\n",
      "|sales                   |9118 |\n",
      "|rn                      |8512 |\n",
      "|office manager          |6738 |\n",
      "|project manager         |6508 |\n",
      "|general manager         |6135 |\n",
      "|truck driver            |5561 |\n",
      "|director                |5005 |\n",
      "|president               |4666 |\n",
      "|engineer                |4404 |\n",
      "|sales manager           |4047 |\n",
      "|operations manager      |3775 |\n",
      "|nurse                   |3508 |\n",
      "|police officer          |3374 |\n",
      "|vice president          |3344 |\n",
      "|store manager           |3289 |\n",
      "|accountant              |3235 |\n",
      "|attorney                |3150 |\n",
      "|technician              |3130 |\n",
      "|administrative assistant|3092 |\n",
      "|account manager         |2945 |\n",
      "|mechanic                |2862 |\n",
      "|server                  |2834 |\n",
      "|assistant manager       |2474 |\n",
      "|analyst                 |2441 |\n",
      "|executive assistant     |2250 |\n",
      "|paralegal               |2197 |\n",
      "|software engineer       |2153 |\n",
      "|branch manager          |2146 |\n",
      "|foreman                 |2132 |\n",
      "|customer service        |2106 |\n",
      "|electrician             |2072 |\n",
      "|operator                |1982 |\n",
      "|consultant              |1919 |\n",
      "|program manager         |1910 |\n",
      "|ceo                     |1834 |\n",
      "|controller              |1831 |\n",
      "|supervisor              |1801 |\n",
      "|clerk                   |1790 |\n",
      "|administrator           |1700 |\n",
      "|machine operator        |1692 |\n",
      "|principal               |1535 |\n",
      "|lpn                     |1532 |\n",
      "|account executive       |1505 |\n",
      "+------------------------+-----+\n",
      "only showing top 50 rows\n"
     ]
    }
   ],
   "source": [
    "\n",
    "# now if we run the same code again changes in the numbers can be seen -- for example see for techer -- from 19,000 to 23,000\n",
    "data.groupby(\"emp_title\").count().orderBy(desc(\"count\")).show(50,False)"
   ]
  },
  {
   "cell_type": "code",
   "execution_count": 97,
   "id": "ea345490-7408-427c-a5be-ba457923f46e",
   "metadata": {},
   "outputs": [],
   "source": [
    "#imputing null values \n",
    "# menas filling the null with something---> here we including others\n",
    "data=data.fillna(\"others\",subset=[\"emp_title\"])\n",
    "\n"
   ]
  },
  {
   "cell_type": "code",
   "execution_count": 98,
   "id": "81b1e83d-9cc8-443f-8f48-803c9b485cc0",
   "metadata": {},
   "outputs": [
    {
     "name": "stdout",
     "output_type": "stream",
     "text": [
      "+------------------------+-----+\n",
      "|emp_title               |count|\n",
      "+------------------------+-----+\n",
      "|others                  |73480|\n",
      "|teacher                 |23706|\n",
      "|manager                 |21888|\n",
      "|owner                   |16654|\n",
      "|registered nurse        |10682|\n",
      "|driver                  |10595|\n",
      "|supervisor              |9508 |\n",
      "|sales                   |9118 |\n",
      "|rn                      |8512 |\n",
      "|office manager          |6738 |\n",
      "|project manager         |6508 |\n",
      "|general manager         |6135 |\n",
      "|truck driver            |5561 |\n",
      "|director                |5005 |\n",
      "|president               |4666 |\n",
      "|engineer                |4404 |\n",
      "|sales manager           |4047 |\n",
      "|operations manager      |3775 |\n",
      "|nurse                   |3508 |\n",
      "|police officer          |3374 |\n",
      "|vice president          |3344 |\n",
      "|store manager           |3289 |\n",
      "|accountant              |3235 |\n",
      "|attorney                |3150 |\n",
      "|technician              |3130 |\n",
      "|administrative assistant|3092 |\n",
      "|account manager         |2945 |\n",
      "|mechanic                |2862 |\n",
      "|server                  |2834 |\n",
      "|assistant manager       |2474 |\n",
      "|analyst                 |2441 |\n",
      "|executive assistant     |2250 |\n",
      "|paralegal               |2197 |\n",
      "|software engineer       |2153 |\n",
      "|branch manager          |2146 |\n",
      "|foreman                 |2132 |\n",
      "|customer service        |2106 |\n",
      "|electrician             |2072 |\n",
      "|operator                |1982 |\n",
      "|consultant              |1919 |\n",
      "|program manager         |1910 |\n",
      "|ceo                     |1834 |\n",
      "|controller              |1831 |\n",
      "|supervisor              |1801 |\n",
      "|clerk                   |1790 |\n",
      "|administrator           |1700 |\n",
      "|machine operator        |1692 |\n",
      "|principal               |1535 |\n",
      "|lpn                     |1532 |\n",
      "|account executive       |1505 |\n",
      "+------------------------+-----+\n",
      "only showing top 50 rows\n"
     ]
    }
   ],
   "source": [
    "data.groupby(\"emp_title\").count().orderBy(desc(\"count\")).show(50,False)"
   ]
  },
  {
   "cell_type": "code",
   "execution_count": 99,
   "id": "5d55ba92-a5b2-41f2-a784-b12f0de4df39",
   "metadata": {},
   "outputs": [
    {
     "name": "stdout",
     "output_type": "stream",
     "text": [
      "+--------+---------+---------+-----------+---------------+----------+--------+\n",
      "|id      |member_id|loan_amnt|funded_amnt|funded_amnt_inv|term      |int_rate|\n",
      "+--------+---------+---------+-----------+---------------+----------+--------+\n",
      "|68407277|NULL     |3600     |3600       |3600.0         | 36 months|13.99   |\n",
      "|68355089|NULL     |24700    |24700      |24700.0        | 36 months|11.99   |\n",
      "|68341763|NULL     |20000    |20000      |20000.0        | 60 months|10.78   |\n",
      "|66310712|NULL     |35000    |35000      |35000.0        | 60 months|14.85   |\n",
      "|68476807|NULL     |10400    |10400      |10400.0        | 60 months|22.45   |\n",
      "|68426831|NULL     |11950    |11950      |11950.0        | 36 months|13.44   |\n",
      "|68476668|NULL     |20000    |20000      |20000.0        | 36 months|9.17    |\n",
      "|67275481|NULL     |20000    |20000      |20000.0        | 36 months|8.49    |\n",
      "|68466926|NULL     |10000    |10000      |10000.0        | 36 months|6.49    |\n",
      "|68616873|NULL     |8000     |8000       |8000.0         | 36 months|11.48   |\n",
      "+--------+---------+---------+-----------+---------------+----------+--------+\n",
      "only showing top 10 rows\n"
     ]
    }
   ],
   "source": [
    "\n",
    "# check all the sets of the colunms like A--E we have assigned and check each column names and clean it \n",
    "data.select(columns_A7).show(10,False)"
   ]
  },
  {
   "cell_type": "code",
   "execution_count": 100,
   "id": "11550dc6-5b17-4103-8d47-fd2e13f7a351",
   "metadata": {},
   "outputs": [
    {
     "name": "stdout",
     "output_type": "stream",
     "text": [
      "+-----------+-----+---------+---------------------------------------+----------+--------------+----------+\n",
      "|installment|grade|sub_grade|emp_title                              |emp_length|home_ownership|annual_inc|\n",
      "+-----------+-----+---------+---------------------------------------+----------+--------------+----------+\n",
      "|123.03     |C    |C4       |leadman                                |10+ years |MORTGAGE      |55000.0   |\n",
      "|820.28     |C    |C1       |engineer                               |10+ years |MORTGAGE      |65000.0   |\n",
      "|432.66     |B    |B4       |truck driver                           |10+ years |MORTGAGE      |63000.0   |\n",
      "|829.9      |C    |C5       |information systems officer            |10+ years |MORTGAGE      |110000.0  |\n",
      "|289.91     |F    |F1       |contract specialist                    |3 years   |MORTGAGE      |104433.0  |\n",
      "|405.18     |C    |C3       |veterinary tecnician                   |4 years   |RENT          |34000.0   |\n",
      "|637.58     |B    |B2       |vice president of recruiting operations|10+ years |MORTGAGE      |180000.0  |\n",
      "|631.26     |B    |B1       |road driver                            |10+ years |MORTGAGE      |85000.0   |\n",
      "|306.45     |A    |A2       |service manager                        |6 years   |RENT          |85000.0   |\n",
      "|263.74     |B    |B5       |vendor liaison                         |10+ years |MORTGAGE      |42000.0   |\n",
      "+-----------+-----+---------+---------------------------------------+----------+--------------+----------+\n",
      "only showing top 10 rows\n"
     ]
    }
   ],
   "source": [
    "data.select(columns_B7).show(10,False)"
   ]
  },
  {
   "cell_type": "code",
   "execution_count": 101,
   "id": "02598341-11df-4eef-ac82-7cff79b929eb",
   "metadata": {},
   "outputs": [
    {
     "name": "stdout",
     "output_type": "stream",
     "text": [
      "+--------------+\n",
      "|home_ownership|\n",
      "+--------------+\n",
      "|           OWN|\n",
      "|          RENT|\n",
      "|      MORTGAGE|\n",
      "|           ANY|\n",
      "|          NONE|\n",
      "+--------------+\n",
      "\n"
     ]
    }
   ],
   "source": [
    "data.select(\"home_ownership\").distinct().show(10)"
   ]
  },
  {
   "cell_type": "code",
   "execution_count": 102,
   "id": "470df64c-9f86-4bc0-af8f-692f3cc31db4",
   "metadata": {},
   "outputs": [
    {
     "name": "stdout",
     "output_type": "stream",
     "text": [
      "+-------------------+-------+-----------+----------+-----------------------------------------------------------------+----+------------------+\n",
      "|verification_status|issue_d|loan_status|pymnt_plan|url                                                              |desc|purpose           |\n",
      "+-------------------+-------+-----------+----------+-----------------------------------------------------------------+----+------------------+\n",
      "|Not Verified       |Dec-15 |Fully Paid |n         |https://lendingclub.com/browse/loanDetail.action?loan_id=68407277|NULL|debt_consolidation|\n",
      "|Not Verified       |Dec-15 |Fully Paid |n         |https://lendingclub.com/browse/loanDetail.action?loan_id=68355089|NULL|small_business    |\n",
      "|Not Verified       |Dec-15 |Fully Paid |n         |https://lendingclub.com/browse/loanDetail.action?loan_id=68341763|NULL|home_improvement  |\n",
      "|Source Verified    |Dec-15 |Current    |n         |https://lendingclub.com/browse/loanDetail.action?loan_id=66310712|NULL|debt_consolidation|\n",
      "|Source Verified    |Dec-15 |Fully Paid |n         |https://lendingclub.com/browse/loanDetail.action?loan_id=68476807|NULL|major_purchase    |\n",
      "|Source Verified    |Dec-15 |Fully Paid |n         |https://lendingclub.com/browse/loanDetail.action?loan_id=68426831|NULL|debt_consolidation|\n",
      "|Not Verified       |Dec-15 |Fully Paid |n         |https://lendingclub.com/browse/loanDetail.action?loan_id=68476668|NULL|debt_consolidation|\n",
      "|Not Verified       |Dec-15 |Fully Paid |n         |https://lendingclub.com/browse/loanDetail.action?loan_id=67275481|NULL|major_purchase    |\n",
      "|Not Verified       |Dec-15 |Fully Paid |n         |https://lendingclub.com/browse/loanDetail.action?loan_id=68466926|NULL|credit_card       |\n",
      "|Not Verified       |Dec-15 |Fully Paid |n         |https://lendingclub.com/browse/loanDetail.action?loan_id=68616873|NULL|credit_card       |\n",
      "+-------------------+-------+-----------+----------+-----------------------------------------------------------------+----+------------------+\n",
      "only showing top 10 rows\n"
     ]
    }
   ],
   "source": [
    "data.select(columns_C7).show(10,False)"
   ]
  },
  {
   "cell_type": "code",
   "execution_count": 103,
   "id": "2c2d36fb-a4d0-4d2e-8e14-b4254e6d11c2",
   "metadata": {},
   "outputs": [
    {
     "name": "stdout",
     "output_type": "stream",
     "text": [
      "+------------------+\n",
      "|       loan_status|\n",
      "+------------------+\n",
      "|        Fully Paid|\n",
      "|           Default|\n",
      "|   In Grace Period|\n",
      "|       Charged Off|\n",
      "|Late (31-120 days)|\n",
      "|           Current|\n",
      "| Late (16-30 days)|\n",
      "+------------------+\n",
      "\n"
     ]
    }
   ],
   "source": [
    "data.select(\"loan_status\").distinct().show(10)"
   ]
  },
  {
   "cell_type": "code",
   "execution_count": 104,
   "id": "d9d2710f-ea7f-4082-9acc-25514d340f62",
   "metadata": {},
   "outputs": [
    {
     "name": "stdout",
     "output_type": "stream",
     "text": [
      "+----------+\n",
      "|pymnt_plan|\n",
      "+----------+\n",
      "|         n|\n",
      "|         y|\n",
      "+----------+\n",
      "\n"
     ]
    }
   ],
   "source": [
    "data.select(\"pymnt_plan\").distinct().show(10)"
   ]
  },
  {
   "cell_type": "code",
   "execution_count": 105,
   "id": "8d7cb467-74b3-48e6-b7f4-4897d0441d09",
   "metadata": {},
   "outputs": [
    {
     "name": "stdout",
     "output_type": "stream",
     "text": [
      "+------------------+\n",
      "|           purpose|\n",
      "+------------------+\n",
      "|           wedding|\n",
      "|             other|\n",
      "|    small_business|\n",
      "|debt_consolidation|\n",
      "|       credit_card|\n",
      "|            moving|\n",
      "|          vacation|\n",
      "|  renewable_energy|\n",
      "|             house|\n",
      "|               car|\n",
      "+------------------+\n",
      "only showing top 10 rows\n"
     ]
    }
   ],
   "source": [
    "data.select(\"purpose\").distinct().show(10)"
   ]
  },
  {
   "cell_type": "code",
   "execution_count": 106,
   "id": "9e9c0add-1951-47f6-b29b-536c600e4d76",
   "metadata": {},
   "outputs": [
    {
     "name": "stdout",
     "output_type": "stream",
     "text": [
      "+-----------------------+--------+----------+-----+-----------+----------------+--------------+\n",
      "|title                  |zip_code|addr_state|dti  |delinq_2yrs|earliest_cr_line|fico_range_low|\n",
      "+-----------------------+--------+----------+-----+-----------+----------------+--------------+\n",
      "|Debt consolidation     |190xx   |PA        |5.91 |0          |Aug-03          |675           |\n",
      "|Business               |577xx   |SD        |16.06|1          |Dec-99          |715           |\n",
      "|NULL                   |605xx   |IL        |10.78|0          |Aug-00          |695           |\n",
      "|Debt consolidation     |076xx   |NJ        |17.06|0          |Sep-08          |785           |\n",
      "|Major purchase         |174xx   |PA        |25.37|1          |Jun-98          |695           |\n",
      "|Debt consolidation     |300xx   |GA        |10.2 |0          |Oct-87          |690           |\n",
      "|Debt consolidation     |550xx   |MN        |14.67|0          |Jun-90          |680           |\n",
      "|Major purchase         |293xx   |SC        |17.61|1          |Feb-99          |705           |\n",
      "|Credit card refinancing|160xx   |PA        |13.07|0          |Apr-02          |685           |\n",
      "|Credit card refinancing|029xx   |RI        |34.8 |0          |Nov-94          |700           |\n",
      "+-----------------------+--------+----------+-----+-----------+----------------+--------------+\n",
      "only showing top 10 rows\n"
     ]
    }
   ],
   "source": [
    "data.select(columns_D7).show(10,False)"
   ]
  },
  {
   "cell_type": "code",
   "execution_count": 110,
   "id": "1350f2e1-a8c8-44a4-a3b2-f52f103e101b",
   "metadata": {},
   "outputs": [
    {
     "name": "stdout",
     "output_type": "stream",
     "text": [
      "+--------+\n",
      "|zip_code|\n",
      "+--------+\n",
      "|   471xx|\n",
      "|   418xx|\n",
      "|   230xx|\n",
      "|   957xx|\n",
      "|   223xx|\n",
      "|   143xx|\n",
      "|   751xx|\n",
      "|   183xx|\n",
      "|   154xx|\n",
      "|   371xx|\n",
      "|   591xx|\n",
      "|   831xx|\n",
      "|   287xx|\n",
      "|   535xx|\n",
      "|   756xx|\n",
      "|   179xx|\n",
      "|   216xx|\n",
      "|   625xx|\n",
      "|   895xx|\n",
      "|   387xx|\n",
      "|   436xx|\n",
      "|   355xx|\n",
      "|   244xx|\n",
      "|   017xx|\n",
      "|   923xx|\n",
      "|   446xx|\n",
      "|   397xx|\n",
      "|   136xx|\n",
      "|   159xx|\n",
      "|   784xx|\n",
      "|   564xx|\n",
      "|   973xx|\n",
      "|   544xx|\n",
      "|   780xx|\n",
      "|   385xx|\n",
      "|   660xx|\n",
      "|   902xx|\n",
      "|   309xx|\n",
      "|   386xx|\n",
      "|   731xx|\n",
      "|   669xx|\n",
      "|   601xx|\n",
      "|   943xx|\n",
      "|   703xx|\n",
      "|   713xx|\n",
      "|   672xx|\n",
      "|   971xx|\n",
      "|   469xx|\n",
      "|   965xx|\n",
      "|   850xx|\n",
      "|   480xx|\n",
      "|   499xx|\n",
      "|   572xx|\n",
      "|   962xx|\n",
      "|   497xx|\n",
      "|   665xx|\n",
      "|   997xx|\n",
      "|   773xx|\n",
      "|   765xx|\n",
      "|   951xx|\n",
      "|   339xx|\n",
      "|   662xx|\n",
      "|   753xx|\n",
      "|   834xx|\n",
      "|   292xx|\n",
      "|   571xx|\n",
      "|   026xx|\n",
      "|   594xx|\n",
      "|   360xx|\n",
      "|   359xx|\n",
      "|   916xx|\n",
      "|   640xx|\n",
      "|   021xx|\n",
      "|   130xx|\n",
      "|   049xx|\n",
      "|   664xx|\n",
      "|   356xx|\n",
      "|   491xx|\n",
      "|   410xx|\n",
      "|   725xx|\n",
      "|   369xx|\n",
      "|   218xx|\n",
      "|   279xx|\n",
      "|   712xx|\n",
      "|   023xx|\n",
      "|   782xx|\n",
      "|   846xx|\n",
      "|   628xx|\n",
      "|   007xx|\n",
      "|   301xx|\n",
      "|   450xx|\n",
      "|   903xx|\n",
      "|   214xx|\n",
      "|   265xx|\n",
      "|   137xx|\n",
      "|   522xx|\n",
      "|   340xx|\n",
      "|   766xx|\n",
      "|   200xx|\n",
      "|   302xx|\n",
      "+--------+\n",
      "only showing top 100 rows\n"
     ]
    }
   ],
   "source": [
    "data.select(\"zip_code\").distinct().show(100)"
   ]
  },
  {
   "cell_type": "code",
   "execution_count": 111,
   "id": "d85baa25-8146-4ed9-9c8c-3e0c5f34b1d3",
   "metadata": {},
   "outputs": [
    {
     "name": "stdout",
     "output_type": "stream",
     "text": [
      "+--------+\n",
      "|zip_code|\n",
      "+--------+\n",
      "+--------+\n",
      "\n"
     ]
    }
   ],
   "source": [
    "data.select(\"zip_code\").filter(length(col(\"sub_grade\"))>2).show(10)"
   ]
  },
  {
   "cell_type": "code",
   "execution_count": null,
   "id": "68af84fd-8333-4dac-93f3-ef696fb342ca",
   "metadata": {},
   "outputs": [],
   "source": []
  },
  {
   "cell_type": "code",
   "execution_count": null,
   "id": "d60af811-8d8c-4a7c-b278-3c66ec979174",
   "metadata": {},
   "outputs": [],
   "source": []
  }
 ],
 "metadata": {
  "kernelspec": {
   "display_name": "Python 3 (ipykernel)",
   "language": "python",
   "name": "python3"
  },
  "language_info": {
   "codemirror_mode": {
    "name": "ipython",
    "version": 3
   },
   "file_extension": ".py",
   "mimetype": "text/x-python",
   "name": "python",
   "nbconvert_exporter": "python",
   "pygments_lexer": "ipython3",
   "version": "3.12.7"
  }
 },
 "nbformat": 4,
 "nbformat_minor": 5
}
